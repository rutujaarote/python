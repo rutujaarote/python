{
 "cells": [
  {
   "cell_type": "code",
   "execution_count": 1,
   "id": "f0594307",
   "metadata": {},
   "outputs": [],
   "source": [
    "def test(**kwargs):\n",
    "    return kwargs"
   ]
  },
  {
   "cell_type": "code",
   "execution_count": 2,
   "id": "e145d8c9",
   "metadata": {},
   "outputs": [
    {
     "data": {
      "text/plain": [
       "{'a': 5}"
      ]
     },
     "execution_count": 2,
     "metadata": {},
     "output_type": "execute_result"
    }
   ],
   "source": [
    "test(a=5)"
   ]
  },
  {
   "cell_type": "code",
   "execution_count": 3,
   "id": "ba318c3e",
   "metadata": {},
   "outputs": [],
   "source": [
    "def test1(**kwargs):\n",
    "    return kwargs"
   ]
  },
  {
   "cell_type": "code",
   "execution_count": 5,
   "id": "c63ae41f",
   "metadata": {},
   "outputs": [
    {
     "data": {
      "text/plain": [
       "{'name': 'rutuja', 'age': 20}"
      ]
     },
     "execution_count": 5,
     "metadata": {},
     "output_type": "execute_result"
    }
   ],
   "source": [
    "test1(name='rutuja',age=20)"
   ]
  },
  {
   "cell_type": "code",
   "execution_count": 6,
   "id": "2ccad1e6",
   "metadata": {},
   "outputs": [],
   "source": [
    "def test2(*args,**kwargs):\n",
    "    return args,kwargs"
   ]
  },
  {
   "cell_type": "code",
   "execution_count": 7,
   "id": "9f13b50b",
   "metadata": {},
   "outputs": [
    {
     "data": {
      "text/plain": [
       "((1, 2, 3, 4), {'a': 5, 'b': 6})"
      ]
     },
     "execution_count": 7,
     "metadata": {},
     "output_type": "execute_result"
    }
   ],
   "source": [
    "test2(1,2,3,4,a=5,b=6)"
   ]
  },
  {
   "cell_type": "code",
   "execution_count": 8,
   "id": "34f32a9a",
   "metadata": {},
   "outputs": [],
   "source": [
    "def test3(a,**kwargs):\n",
    "    return a,kwargs"
   ]
  },
  {
   "cell_type": "code",
   "execution_count": 9,
   "id": "779eb3ee",
   "metadata": {},
   "outputs": [
    {
     "data": {
      "text/plain": [
       "(4, {'name': 'rutuja', 'age': 20, 'address': 'nashik'})"
      ]
     },
     "execution_count": 9,
     "metadata": {},
     "output_type": "execute_result"
    }
   ],
   "source": [
    "test3(4,name='rutuja',age=20,address='nashik')"
   ]
  },
  {
   "cell_type": "code",
   "execution_count": 10,
   "id": "e6e21297",
   "metadata": {},
   "outputs": [],
   "source": [
    "def test4(a,*args,**kwargs):\n",
    "    return a,args,kwargs"
   ]
  },
  {
   "cell_type": "code",
   "execution_count": 11,
   "id": "3d3bb40c",
   "metadata": {},
   "outputs": [
    {
     "data": {
      "text/plain": [
       "(2, (3, 4, 5, 6), {'l': 0, 'i': 1, 'h': 8})"
      ]
     },
     "execution_count": 11,
     "metadata": {},
     "output_type": "execute_result"
    }
   ],
   "source": [
    "test4(2,3,4,5,6,l=0,i=1,h=8)"
   ]
  },
  {
   "cell_type": "code",
   "execution_count": null,
   "id": "58acc898",
   "metadata": {},
   "outputs": [],
   "source": []
  }
 ],
 "metadata": {
  "kernelspec": {
   "display_name": "Python 3 (ipykernel)",
   "language": "python",
   "name": "python3"
  },
  "language_info": {
   "codemirror_mode": {
    "name": "ipython",
    "version": 3
   },
   "file_extension": ".py",
   "mimetype": "text/x-python",
   "name": "python",
   "nbconvert_exporter": "python",
   "pygments_lexer": "ipython3",
   "version": "3.11.5"
  }
 },
 "nbformat": 4,
 "nbformat_minor": 5
}
