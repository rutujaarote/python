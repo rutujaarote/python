{
 "cells": [
  {
   "cell_type": "code",
   "execution_count": 61,
   "id": "0dccb31e",
   "metadata": {},
   "outputs": [
    {
     "name": "stdout",
     "output_type": "stream",
     "text": [
      "enter course namepython\n",
      "enter topic namedata science\n",
      "yes data science is available in python course\n"
     ]
    }
   ],
   "source": [
    "course=input('enter course name')\n",
    "topic=input('enter topic name')\n",
    "\n",
    "if course=='python':\n",
    "    if topic=='data science':\n",
    "          print('yes data science is available in python course')\n",
    "    \n",
    "    elif topic=='data analyst':\n",
    "        print('yes data analyst is available in python course')\n",
    "    \n",
    "    else:\n",
    "        print('this topic is not available in python course')\n",
    "        \n",
    "elif course =='java':\n",
    "     if topic =='front end':\n",
    "        print('front end is available in java course')\n",
    "         \n",
    "elif topic=='backend':\n",
    "                print('backend end is available in java course ')\n",
    "else:\n",
    "    print('please select valid course')"
   ]
  },
  {
   "cell_type": "code",
   "execution_count": null,
   "id": "6a3928ca",
   "metadata": {},
   "outputs": [],
   "source": []
  },
  {
   "cell_type": "code",
   "execution_count": null,
   "id": "919e50ca",
   "metadata": {},
   "outputs": [],
   "source": []
  }
 ],
 "metadata": {
  "kernelspec": {
   "display_name": "Python 3 (ipykernel)",
   "language": "python",
   "name": "python3"
  },
  "language_info": {
   "codemirror_mode": {
    "name": "ipython",
    "version": 3
   },
   "file_extension": ".py",
   "mimetype": "text/x-python",
   "name": "python",
   "nbconvert_exporter": "python",
   "pygments_lexer": "ipython3",
   "version": "3.11.5"
  }
 },
 "nbformat": 4,
 "nbformat_minor": 5
}
