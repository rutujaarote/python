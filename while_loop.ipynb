{
 "cells": [
  {
   "cell_type": "raw",
   "id": "fcc67ba0",
   "metadata": {},
   "source": [
    "whileloop"
   ]
  },
  {
   "cell_type": "markdown",
   "id": "6bbb629b",
   "metadata": {},
   "source": [
    "A whileloop is used to repeatedly execute a block of code as long as specified condition is true"
   ]
  },
  {
   "cell_type": "code",
   "execution_count": 2,
   "id": "064055b7",
   "metadata": {},
   "outputs": [],
   "source": [
    "x=1"
   ]
  },
  {
   "cell_type": "code",
   "execution_count": 5,
   "id": "56adb9e7",
   "metadata": {},
   "outputs": [],
   "source": [
    "while x<=5:\n",
    "    print(x)\n",
    "    x=x+1"
   ]
  },
  {
   "cell_type": "code",
   "execution_count": 6,
   "id": "beb10afd",
   "metadata": {},
   "outputs": [
    {
     "name": "stdout",
     "output_type": "stream",
     "text": [
      "type quit to exityes\n",
      "you typed: yes\n",
      "type quit to exitno\n",
      "you typed: no\n",
      "type quit to exitrutuja\n",
      "you typed: rutuja\n",
      "type quit to exitquit\n",
      "you typed: quit\n"
     ]
    }
   ],
   "source": [
    "user_input=''\n",
    "while user_input.lower()!='quit':\n",
    "    user_input=input('type quit to exit')\n",
    "    print('you typed:',user_input)"
   ]
  },
  {
   "cell_type": "code",
   "execution_count": null,
   "id": "f4ff074a",
   "metadata": {},
   "outputs": [],
   "source": []
  },
  {
   "cell_type": "code",
   "execution_count": 2,
   "id": "5584cb87",
   "metadata": {},
   "outputs": [
    {
     "name": "stdout",
     "output_type": "stream",
     "text": [
      "age3\n",
      "your age is 3\n",
      "age4\n",
      "your age is 4\n",
      "age30\n",
      "your age is 30\n"
     ]
    }
   ],
   "source": [
    "age=int()\n",
    "while age!=30:\n",
    "    age=int(input('age'))\n",
    "    print('your age is',age)"
   ]
  },
  {
   "cell_type": "code",
   "execution_count": 3,
   "id": "6d4351f4",
   "metadata": {},
   "outputs": [
    {
     "name": "stdout",
     "output_type": "stream",
     "text": [
      "1\n",
      "3\n",
      "6\n",
      "10\n",
      "15\n"
     ]
    }
   ],
   "source": [
    "total=0\n",
    "num=1\n",
    "while num<=5:\n",
    "    total=total+num\n",
    "    num=num+1\n",
    "    print(total)"
   ]
  },
  {
   "cell_type": "code",
   "execution_count": null,
   "id": "082a1145",
   "metadata": {},
   "outputs": [],
   "source": []
  }
 ],
 "metadata": {
  "kernelspec": {
   "display_name": "Python 3 (ipykernel)",
   "language": "python",
   "name": "python3"
  },
  "language_info": {
   "codemirror_mode": {
    "name": "ipython",
    "version": 3
   },
   "file_extension": ".py",
   "mimetype": "text/x-python",
   "name": "python",
   "nbconvert_exporter": "python",
   "pygments_lexer": "ipython3",
   "version": "3.11.5"
  }
 },
 "nbformat": 4,
 "nbformat_minor": 5
}
