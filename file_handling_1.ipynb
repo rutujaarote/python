{
 "cells": [
  {
   "cell_type": "code",
   "execution_count": 1,
   "id": "cf079e01",
   "metadata": {},
   "outputs": [
    {
     "name": "stdout",
     "output_type": "stream",
     "text": [
      " Volume in drive C is Windows\n",
      " Volume Serial Number is 3877-199F\n",
      "\n",
      " Directory of C:\\Users\\rutuj\\Documents\\Advance_python\n",
      "\n",
      "07-02-2024  15:11    <DIR>          .\n",
      "07-02-2024  15:11    <DIR>          ..\n",
      "07-02-2024  15:11    <DIR>          .ipynb_checkpoints\n",
      "07-02-2024  15:11                72 Untitled.ipynb\n",
      "               1 File(s)             72 bytes\n",
      "               3 Dir(s)  58,777,686,016 bytes free\n"
     ]
    }
   ],
   "source": [
    "%ls"
   ]
  },
  {
   "cell_type": "code",
   "execution_count": 2,
   "id": "56f2ff65",
   "metadata": {},
   "outputs": [],
   "source": [
    "f=open('text1','w')"
   ]
  },
  {
   "cell_type": "code",
   "execution_count": 4,
   "id": "451b37c8",
   "metadata": {},
   "outputs": [
    {
     "data": {
      "text/plain": [
       "51"
      ]
     },
     "execution_count": 4,
     "metadata": {},
     "output_type": "execute_result"
    }
   ],
   "source": [
    "f.write('this is my first text file for advance python class')"
   ]
  },
  {
   "cell_type": "code",
   "execution_count": 6,
   "id": "f1787e6b",
   "metadata": {},
   "outputs": [],
   "source": [
    "f.close()"
   ]
  },
  {
   "cell_type": "code",
   "execution_count": 8,
   "id": "dd2df51c",
   "metadata": {},
   "outputs": [],
   "source": [
    "f=open('text1','r')"
   ]
  },
  {
   "cell_type": "code",
   "execution_count": 9,
   "id": "77a6fd1d",
   "metadata": {},
   "outputs": [
    {
     "data": {
      "text/plain": [
       "'this is my first text file for advance python class'"
      ]
     },
     "execution_count": 9,
     "metadata": {},
     "output_type": "execute_result"
    }
   ],
   "source": [
    "f.read()"
   ]
  },
  {
   "cell_type": "code",
   "execution_count": 12,
   "id": "443781fd",
   "metadata": {},
   "outputs": [
    {
     "data": {
      "text/plain": [
       "8"
      ]
     },
     "execution_count": 12,
     "metadata": {},
     "output_type": "execute_result"
    }
   ],
   "source": [
    "f.seek(8)"
   ]
  },
  {
   "cell_type": "code",
   "execution_count": 13,
   "id": "7ed071af",
   "metadata": {},
   "outputs": [
    {
     "data": {
      "text/plain": [
       "'my first text file for advance python class'"
      ]
     },
     "execution_count": 13,
     "metadata": {},
     "output_type": "execute_result"
    }
   ],
   "source": [
    "f.read()"
   ]
  },
  {
   "cell_type": "code",
   "execution_count": 14,
   "id": "bd56ffc3",
   "metadata": {},
   "outputs": [],
   "source": [
    "a=open('text2','w')"
   ]
  },
  {
   "cell_type": "code",
   "execution_count": 15,
   "id": "ca5753a4",
   "metadata": {},
   "outputs": [
    {
     "data": {
      "text/plain": [
       "25"
      ]
     },
     "execution_count": 15,
     "metadata": {},
     "output_type": "execute_result"
    }
   ],
   "source": [
    "a.write('this is my first sentence')"
   ]
  },
  {
   "cell_type": "code",
   "execution_count": 17,
   "id": "e5c9a750",
   "metadata": {},
   "outputs": [],
   "source": [
    "a.close()"
   ]
  },
  {
   "cell_type": "code",
   "execution_count": 19,
   "id": "78545def",
   "metadata": {},
   "outputs": [],
   "source": [
    "a=open('text2','r')"
   ]
  },
  {
   "cell_type": "code",
   "execution_count": 20,
   "id": "e7e72496",
   "metadata": {},
   "outputs": [
    {
     "data": {
      "text/plain": [
       "'this is my first sentence'"
      ]
     },
     "execution_count": 20,
     "metadata": {},
     "output_type": "execute_result"
    }
   ],
   "source": [
    "a.read()"
   ]
  },
  {
   "cell_type": "code",
   "execution_count": 22,
   "id": "6034719e",
   "metadata": {},
   "outputs": [],
   "source": [
    "a=open('text2','r+')"
   ]
  },
  {
   "cell_type": "code",
   "execution_count": 23,
   "id": "faea45a2",
   "metadata": {},
   "outputs": [
    {
     "data": {
      "text/plain": [
       "'this is my first sentence'"
      ]
     },
     "execution_count": 23,
     "metadata": {},
     "output_type": "execute_result"
    }
   ],
   "source": [
    "a.read()"
   ]
  },
  {
   "cell_type": "code",
   "execution_count": 24,
   "id": "6b5d328c",
   "metadata": {},
   "outputs": [
    {
     "data": {
      "text/plain": [
       "26"
      ]
     },
     "execution_count": 24,
     "metadata": {},
     "output_type": "execute_result"
    }
   ],
   "source": [
    "a.write('this is my second sentence')"
   ]
  },
  {
   "cell_type": "code",
   "execution_count": 26,
   "id": "78c27970",
   "metadata": {},
   "outputs": [
    {
     "data": {
      "text/plain": [
       "0"
      ]
     },
     "execution_count": 26,
     "metadata": {},
     "output_type": "execute_result"
    }
   ],
   "source": [
    "a.seek(0)"
   ]
  },
  {
   "cell_type": "code",
   "execution_count": 28,
   "id": "a2edf7e4",
   "metadata": {},
   "outputs": [
    {
     "data": {
      "text/plain": [
       "'this is my first sentencethis is my second sentence'"
      ]
     },
     "execution_count": 28,
     "metadata": {},
     "output_type": "execute_result"
    }
   ],
   "source": [
    "a.read()"
   ]
  },
  {
   "cell_type": "code",
   "execution_count": 29,
   "id": "79c9e3a1",
   "metadata": {},
   "outputs": [],
   "source": [
    "a.close()"
   ]
  },
  {
   "cell_type": "code",
   "execution_count": null,
   "id": "a61f90df",
   "metadata": {},
   "outputs": [],
   "source": []
  }
 ],
 "metadata": {
  "kernelspec": {
   "display_name": "Python 3 (ipykernel)",
   "language": "python",
   "name": "python3"
  },
  "language_info": {
   "codemirror_mode": {
    "name": "ipython",
    "version": 3
   },
   "file_extension": ".py",
   "mimetype": "text/x-python",
   "name": "python",
   "nbconvert_exporter": "python",
   "pygments_lexer": "ipython3",
   "version": "3.11.5"
  }
 },
 "nbformat": 4,
 "nbformat_minor": 5
}
