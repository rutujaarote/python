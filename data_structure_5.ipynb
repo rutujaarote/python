{
 "cells": [
  {
   "cell_type": "code",
   "execution_count": 1,
   "id": "5f30b48d",
   "metadata": {},
   "outputs": [],
   "source": [
    "a={}"
   ]
  },
  {
   "cell_type": "code",
   "execution_count": 2,
   "id": "2f2dec9b",
   "metadata": {},
   "outputs": [
    {
     "data": {
      "text/plain": [
       "dict"
      ]
     },
     "execution_count": 2,
     "metadata": {},
     "output_type": "execute_result"
    }
   ],
   "source": [
    "type(a)"
   ]
  },
  {
   "cell_type": "code",
   "execution_count": 3,
   "id": "bdffb930",
   "metadata": {},
   "outputs": [
    {
     "data": {
      "text/plain": [
       "set()"
      ]
     },
     "execution_count": 3,
     "metadata": {},
     "output_type": "execute_result"
    }
   ],
   "source": [
    "set(a)"
   ]
  },
  {
   "cell_type": "code",
   "execution_count": 4,
   "id": "5cb73222",
   "metadata": {},
   "outputs": [],
   "source": [
    "a=(1,2,3)"
   ]
  },
  {
   "cell_type": "code",
   "execution_count": 5,
   "id": "4035db45",
   "metadata": {},
   "outputs": [
    {
     "data": {
      "text/plain": [
       "(1, 2, 3)"
      ]
     },
     "execution_count": 5,
     "metadata": {},
     "output_type": "execute_result"
    }
   ],
   "source": [
    "a"
   ]
  },
  {
   "cell_type": "code",
   "execution_count": 6,
   "id": "f810f135",
   "metadata": {},
   "outputs": [
    {
     "data": {
      "text/plain": [
       "tuple"
      ]
     },
     "execution_count": 6,
     "metadata": {},
     "output_type": "execute_result"
    }
   ],
   "source": [
    "type(a)"
   ]
  },
  {
   "cell_type": "code",
   "execution_count": 7,
   "id": "f9498b46",
   "metadata": {},
   "outputs": [],
   "source": [
    "b=(2,3,4,5)"
   ]
  },
  {
   "cell_type": "code",
   "execution_count": 8,
   "id": "49125c1b",
   "metadata": {},
   "outputs": [
    {
     "data": {
      "text/plain": [
       "{2, 3, 4, 5}"
      ]
     },
     "execution_count": 8,
     "metadata": {},
     "output_type": "execute_result"
    }
   ],
   "source": [
    "set(b)"
   ]
  },
  {
   "cell_type": "code",
   "execution_count": 9,
   "id": "ba35e74f",
   "metadata": {},
   "outputs": [],
   "source": [
    "b=set(b)"
   ]
  },
  {
   "cell_type": "code",
   "execution_count": 10,
   "id": "90127a92",
   "metadata": {},
   "outputs": [
    {
     "data": {
      "text/plain": [
       "{2, 3, 4, 5}"
      ]
     },
     "execution_count": 10,
     "metadata": {},
     "output_type": "execute_result"
    }
   ],
   "source": [
    "b"
   ]
  },
  {
   "cell_type": "code",
   "execution_count": 11,
   "id": "2053936b",
   "metadata": {},
   "outputs": [],
   "source": [
    "c=(4,5,6,7)"
   ]
  },
  {
   "cell_type": "code",
   "execution_count": 12,
   "id": "0cc1ead6",
   "metadata": {},
   "outputs": [
    {
     "data": {
      "text/plain": [
       "(4, 5, 6, 7)"
      ]
     },
     "execution_count": 12,
     "metadata": {},
     "output_type": "execute_result"
    }
   ],
   "source": [
    "c"
   ]
  },
  {
   "cell_type": "code",
   "execution_count": 13,
   "id": "ce26bd0d",
   "metadata": {},
   "outputs": [
    {
     "data": {
      "text/plain": [
       "{4, 5, 6, 7}"
      ]
     },
     "execution_count": 13,
     "metadata": {},
     "output_type": "execute_result"
    }
   ],
   "source": [
    "set(c)"
   ]
  },
  {
   "cell_type": "code",
   "execution_count": 14,
   "id": "9e5f9836",
   "metadata": {},
   "outputs": [],
   "source": [
    "c=set(c)"
   ]
  },
  {
   "cell_type": "code",
   "execution_count": 15,
   "id": "9b0dad05",
   "metadata": {},
   "outputs": [
    {
     "data": {
      "text/plain": [
       "{2, 3, 4, 5, 6, 7}"
      ]
     },
     "execution_count": 15,
     "metadata": {},
     "output_type": "execute_result"
    }
   ],
   "source": [
    "b.union(c)"
   ]
  },
  {
   "cell_type": "code",
   "execution_count": 16,
   "id": "620ef26f",
   "metadata": {},
   "outputs": [
    {
     "data": {
      "text/plain": [
       "{2, 3}"
      ]
     },
     "execution_count": 16,
     "metadata": {},
     "output_type": "execute_result"
    }
   ],
   "source": [
    "b.difference(c)"
   ]
  },
  {
   "cell_type": "code",
   "execution_count": 17,
   "id": "2e4c6630",
   "metadata": {},
   "outputs": [
    {
     "data": {
      "text/plain": [
       "{6, 7}"
      ]
     },
     "execution_count": 17,
     "metadata": {},
     "output_type": "execute_result"
    }
   ],
   "source": [
    "c.difference(b)"
   ]
  },
  {
   "cell_type": "code",
   "execution_count": 18,
   "id": "99faafe3",
   "metadata": {},
   "outputs": [
    {
     "data": {
      "text/plain": [
       "{4, 5}"
      ]
     },
     "execution_count": 18,
     "metadata": {},
     "output_type": "execute_result"
    }
   ],
   "source": [
    "b.intersection(c)"
   ]
  },
  {
   "cell_type": "code",
   "execution_count": 19,
   "id": "810094ab",
   "metadata": {},
   "outputs": [],
   "source": [
    "#update"
   ]
  },
  {
   "cell_type": "code",
   "execution_count": 20,
   "id": "6f020bde",
   "metadata": {},
   "outputs": [],
   "source": [
    "b.update({10})"
   ]
  },
  {
   "cell_type": "code",
   "execution_count": 21,
   "id": "52b6fea6",
   "metadata": {},
   "outputs": [
    {
     "data": {
      "text/plain": [
       "{2, 3, 4, 5, 10}"
      ]
     },
     "execution_count": 21,
     "metadata": {},
     "output_type": "execute_result"
    }
   ],
   "source": [
    "b"
   ]
  },
  {
   "cell_type": "code",
   "execution_count": 23,
   "id": "f8fa38f5",
   "metadata": {},
   "outputs": [
    {
     "data": {
      "text/plain": [
       "{2, 3, 6, 7, 10}"
      ]
     },
     "execution_count": 23,
     "metadata": {},
     "output_type": "execute_result"
    }
   ],
   "source": [
    "c.symmetric_difference(b)"
   ]
  },
  {
   "cell_type": "code",
   "execution_count": 24,
   "id": "99f8fda5",
   "metadata": {},
   "outputs": [],
   "source": [
    "#discard"
   ]
  },
  {
   "cell_type": "code",
   "execution_count": 25,
   "id": "0974ee10",
   "metadata": {},
   "outputs": [],
   "source": [
    "b.discard(10)"
   ]
  },
  {
   "cell_type": "code",
   "execution_count": 26,
   "id": "1eac83f5",
   "metadata": {},
   "outputs": [
    {
     "data": {
      "text/plain": [
       "{2, 3, 4, 5}"
      ]
     },
     "execution_count": 26,
     "metadata": {},
     "output_type": "execute_result"
    }
   ],
   "source": [
    "b"
   ]
  },
  {
   "cell_type": "code",
   "execution_count": 27,
   "id": "c959fd06",
   "metadata": {},
   "outputs": [],
   "source": [
    "#clear"
   ]
  },
  {
   "cell_type": "code",
   "execution_count": 28,
   "id": "53aecfc8",
   "metadata": {},
   "outputs": [],
   "source": [
    "b.clear()"
   ]
  },
  {
   "cell_type": "code",
   "execution_count": 29,
   "id": "b0ed87c5",
   "metadata": {},
   "outputs": [
    {
     "data": {
      "text/plain": [
       "set()"
      ]
     },
     "execution_count": 29,
     "metadata": {},
     "output_type": "execute_result"
    }
   ],
   "source": [
    "b"
   ]
  },
  {
   "cell_type": "code",
   "execution_count": 30,
   "id": "931cc52b",
   "metadata": {},
   "outputs": [],
   "source": [
    "b.difference_update(c)"
   ]
  },
  {
   "cell_type": "code",
   "execution_count": 31,
   "id": "a57303b7",
   "metadata": {},
   "outputs": [
    {
     "data": {
      "text/plain": [
       "set()"
      ]
     },
     "execution_count": 31,
     "metadata": {},
     "output_type": "execute_result"
    }
   ],
   "source": [
    "b"
   ]
  },
  {
   "cell_type": "code",
   "execution_count": 32,
   "id": "ba294e60",
   "metadata": {},
   "outputs": [],
   "source": [
    "g={2,3,4,5}"
   ]
  },
  {
   "cell_type": "code",
   "execution_count": 33,
   "id": "77587cad",
   "metadata": {},
   "outputs": [],
   "source": [
    "h={4,5,6,7,8}"
   ]
  },
  {
   "cell_type": "code",
   "execution_count": 34,
   "id": "15692525",
   "metadata": {},
   "outputs": [
    {
     "data": {
      "text/plain": [
       "{2, 3, 4, 5}"
      ]
     },
     "execution_count": 34,
     "metadata": {},
     "output_type": "execute_result"
    }
   ],
   "source": [
    "g"
   ]
  },
  {
   "cell_type": "code",
   "execution_count": 35,
   "id": "af84ee67",
   "metadata": {},
   "outputs": [
    {
     "data": {
      "text/plain": [
       "{4, 5, 6, 7, 8}"
      ]
     },
     "execution_count": 35,
     "metadata": {},
     "output_type": "execute_result"
    }
   ],
   "source": [
    "h"
   ]
  },
  {
   "cell_type": "code",
   "execution_count": 36,
   "id": "68d9820a",
   "metadata": {},
   "outputs": [],
   "source": [
    "g.difference_update(h)"
   ]
  },
  {
   "cell_type": "code",
   "execution_count": 37,
   "id": "9f16006c",
   "metadata": {},
   "outputs": [
    {
     "data": {
      "text/plain": [
       "{2, 3}"
      ]
     },
     "execution_count": 37,
     "metadata": {},
     "output_type": "execute_result"
    }
   ],
   "source": [
    "g"
   ]
  },
  {
   "cell_type": "markdown",
   "id": "aa663560",
   "metadata": {},
   "source": [
    "# Dictionary"
   ]
  },
  {
   "cell_type": "code",
   "execution_count": 38,
   "id": "ce1c494b",
   "metadata": {},
   "outputs": [],
   "source": [
    "#dictionary is in build data type in python\n",
    "#dictionary stores values in the form of key-pair mode"
   ]
  },
  {
   "cell_type": "code",
   "execution_count": 39,
   "id": "b556e33b",
   "metadata": {},
   "outputs": [],
   "source": [
    "empt_dict={}"
   ]
  },
  {
   "cell_type": "code",
   "execution_count": 40,
   "id": "6a5d6b88",
   "metadata": {},
   "outputs": [],
   "source": [
    "student_dict={'name':'rutuja','age':20,}"
   ]
  },
  {
   "cell_type": "code",
   "execution_count": 41,
   "id": "3d628e13",
   "metadata": {},
   "outputs": [
    {
     "data": {
      "text/plain": [
       "{'name': 'rutuja', 'age': 20}"
      ]
     },
     "execution_count": 41,
     "metadata": {},
     "output_type": "execute_result"
    }
   ],
   "source": [
    "student_dict"
   ]
  },
  {
   "cell_type": "code",
   "execution_count": 42,
   "id": "479d5471",
   "metadata": {},
   "outputs": [],
   "source": [
    "movies={'sholey':1997,'happy new year':2016,'chennai express':2014}"
   ]
  },
  {
   "cell_type": "code",
   "execution_count": 43,
   "id": "5cb79d04",
   "metadata": {},
   "outputs": [
    {
     "data": {
      "text/plain": [
       "{'sholey': 1997, 'happy new year': 2016, 'chennai express': 2014}"
      ]
     },
     "execution_count": 43,
     "metadata": {},
     "output_type": "execute_result"
    }
   ],
   "source": [
    "movies"
   ]
  },
  {
   "cell_type": "code",
   "execution_count": 44,
   "id": "39f05271",
   "metadata": {},
   "outputs": [],
   "source": [
    "keys=['name','age','grade']"
   ]
  },
  {
   "cell_type": "code",
   "execution_count": 45,
   "id": "09713ced",
   "metadata": {},
   "outputs": [],
   "source": [
    "values=['rutuja',20,'A+']"
   ]
  },
  {
   "cell_type": "code",
   "execution_count": 46,
   "id": "aed15eaf",
   "metadata": {},
   "outputs": [
    {
     "data": {
      "text/plain": [
       "{'name': 'rutuja', 'age': 20, 'grade': 'A+'}"
      ]
     },
     "execution_count": 46,
     "metadata": {},
     "output_type": "execute_result"
    }
   ],
   "source": [
    "dict(zip(keys,values)) #converting into dictionary"
   ]
  },
  {
   "cell_type": "code",
   "execution_count": 47,
   "id": "77ba5734",
   "metadata": {},
   "outputs": [],
   "source": [
    "a=dict(zip(keys,values))"
   ]
  },
  {
   "cell_type": "code",
   "execution_count": 48,
   "id": "490d9164",
   "metadata": {},
   "outputs": [
    {
     "data": {
      "text/plain": [
       "{'name': 'rutuja', 'age': 20, 'grade': 'A+'}"
      ]
     },
     "execution_count": 48,
     "metadata": {},
     "output_type": "execute_result"
    }
   ],
   "source": [
    "a"
   ]
  },
  {
   "cell_type": "code",
   "execution_count": 49,
   "id": "a2f74873",
   "metadata": {},
   "outputs": [
    {
     "data": {
      "text/plain": [
       "20"
      ]
     },
     "execution_count": 49,
     "metadata": {},
     "output_type": "execute_result"
    }
   ],
   "source": [
    "a['age']  #fetching the element"
   ]
  },
  {
   "cell_type": "code",
   "execution_count": 50,
   "id": "be846b29",
   "metadata": {},
   "outputs": [
    {
     "data": {
      "text/plain": [
       "'A+'"
      ]
     },
     "execution_count": 50,
     "metadata": {},
     "output_type": "execute_result"
    }
   ],
   "source": [
    "a['grade']"
   ]
  },
  {
   "cell_type": "code",
   "execution_count": 51,
   "id": "e0c2d606",
   "metadata": {},
   "outputs": [],
   "source": [
    "a['age']=21  #updating the same element with new element"
   ]
  },
  {
   "cell_type": "code",
   "execution_count": 52,
   "id": "60d06344",
   "metadata": {},
   "outputs": [
    {
     "data": {
      "text/plain": [
       "{'name': 'rutuja', 'age': 21, 'grade': 'A+'}"
      ]
     },
     "execution_count": 52,
     "metadata": {},
     "output_type": "execute_result"
    }
   ],
   "source": [
    "a"
   ]
  },
  {
   "cell_type": "code",
   "execution_count": 53,
   "id": "2cf461ff",
   "metadata": {},
   "outputs": [],
   "source": [
    "a['height']=5.2 #inserting new element"
   ]
  },
  {
   "cell_type": "code",
   "execution_count": 59,
   "id": "39ea00c4",
   "metadata": {},
   "outputs": [
    {
     "data": {
      "text/plain": [
       "{'name': 'rutuja', 'age': 21, 'grade': 'A+', 'height': 5.2}"
      ]
     },
     "execution_count": 59,
     "metadata": {},
     "output_type": "execute_result"
    }
   ],
   "source": [
    "a"
   ]
  },
  {
   "cell_type": "code",
   "execution_count": 60,
   "id": "acdbf1b3",
   "metadata": {},
   "outputs": [
    {
     "data": {
      "text/plain": [
       "'rutuja'"
      ]
     },
     "execution_count": 60,
     "metadata": {},
     "output_type": "execute_result"
    }
   ],
   "source": [
    "a.get('name') #allows you to retrieve the value of an item associated with the specified key."
   ]
  },
  {
   "cell_type": "code",
   "execution_count": 61,
   "id": "2f823d52",
   "metadata": {},
   "outputs": [
    {
     "data": {
      "text/plain": [
       "dict_keys(['name', 'age', 'grade', 'height'])"
      ]
     },
     "execution_count": 61,
     "metadata": {},
     "output_type": "execute_result"
    }
   ],
   "source": [
    "a.ke"
   ]
  },
  {
   "cell_type": "code",
   "execution_count": 62,
   "id": "2df49288",
   "metadata": {},
   "outputs": [
    {
     "data": {
      "text/plain": [
       "dict_values(['rutuja', 21, 'A+', 5.2])"
      ]
     },
     "execution_count": 62,
     "metadata": {},
     "output_type": "execute_result"
    }
   ],
   "source": [
    "a.values()"
   ]
  },
  {
   "cell_type": "code",
   "execution_count": 63,
   "id": "40c7d468",
   "metadata": {},
   "outputs": [
    {
     "ename": "TypeError",
     "evalue": "pop expected at least 1 argument, got 0",
     "output_type": "error",
     "traceback": [
      "\u001b[1;31m---------------------------------------------------------------------------\u001b[0m",
      "\u001b[1;31mTypeError\u001b[0m                                 Traceback (most recent call last)",
      "Cell \u001b[1;32mIn[63], line 1\u001b[0m\n\u001b[1;32m----> 1\u001b[0m a\u001b[38;5;241m.\u001b[39mpop()\n",
      "\u001b[1;31mTypeError\u001b[0m: pop expected at least 1 argument, got 0"
     ]
    }
   ],
   "source": [
    "a.pop()"
   ]
  },
  {
   "cell_type": "code",
   "execution_count": 64,
   "id": "d23dd6b6",
   "metadata": {},
   "outputs": [
    {
     "data": {
      "text/plain": [
       "'rutuja'"
      ]
     },
     "execution_count": 64,
     "metadata": {},
     "output_type": "execute_result"
    }
   ],
   "source": [
    "a.pop('name')"
   ]
  },
  {
   "cell_type": "code",
   "execution_count": 65,
   "id": "e070db54",
   "metadata": {},
   "outputs": [
    {
     "data": {
      "text/plain": [
       "{'age': 21, 'grade': 'A+', 'height': 5.2}"
      ]
     },
     "execution_count": 65,
     "metadata": {},
     "output_type": "execute_result"
    }
   ],
   "source": [
    "a"
   ]
  },
  {
   "cell_type": "code",
   "execution_count": 66,
   "id": "ec71149e",
   "metadata": {},
   "outputs": [
    {
     "data": {
      "text/plain": [
       "('height', 5.2)"
      ]
     },
     "execution_count": 66,
     "metadata": {},
     "output_type": "execute_result"
    }
   ],
   "source": [
    "a.popitem() #removing only last item from the dictionary"
   ]
  },
  {
   "cell_type": "code",
   "execution_count": 69,
   "id": "a14dd541",
   "metadata": {},
   "outputs": [],
   "source": [
    "#nested dictionary"
   ]
  },
  {
   "cell_type": "code",
   "execution_count": 72,
   "id": "462a8a6a",
   "metadata": {},
   "outputs": [],
   "source": [
    "nes_dict={\n",
    "    'person':{'name':'rutuja','surname':'arote'},\n",
    "    'address':{'city':'pune','state':'maharashtra'}\n",
    "}"
   ]
  },
  {
   "cell_type": "code",
   "execution_count": 73,
   "id": "17ea265a",
   "metadata": {},
   "outputs": [
    {
     "data": {
      "text/plain": [
       "{'person': {'name': 'rutuja', 'surname': 'arote'},\n",
       " 'address': {'city': 'pune', 'state': 'maharashtra'}}"
      ]
     },
     "execution_count": 73,
     "metadata": {},
     "output_type": "execute_result"
    }
   ],
   "source": [
    "nes_dict"
   ]
  },
  {
   "cell_type": "code",
   "execution_count": 74,
   "id": "53fa8219",
   "metadata": {},
   "outputs": [
    {
     "data": {
      "text/plain": [
       "{'city': 'pune', 'state': 'maharashtra'}"
      ]
     },
     "execution_count": 74,
     "metadata": {},
     "output_type": "execute_result"
    }
   ],
   "source": [
    "nes_dict['address']"
   ]
  },
  {
   "cell_type": "code",
   "execution_count": 76,
   "id": "c4f08136",
   "metadata": {},
   "outputs": [
    {
     "data": {
      "text/plain": [
       "'rutuja'"
      ]
     },
     "execution_count": 76,
     "metadata": {},
     "output_type": "execute_result"
    }
   ],
   "source": [
    "nes_dict['person']['name']"
   ]
  },
  {
   "cell_type": "code",
   "execution_count": null,
   "id": "525f8004",
   "metadata": {},
   "outputs": [],
   "source": []
  }
 ],
 "metadata": {
  "kernelspec": {
   "display_name": "Python 3 (ipykernel)",
   "language": "python",
   "name": "python3"
  },
  "language_info": {
   "codemirror_mode": {
    "name": "ipython",
    "version": 3
   },
   "file_extension": ".py",
   "mimetype": "text/x-python",
   "name": "python",
   "nbconvert_exporter": "python",
   "pygments_lexer": "ipython3",
   "version": "3.11.5"
  }
 },
 "nbformat": 4,
 "nbformat_minor": 5
}
