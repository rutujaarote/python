{
 "cells": [
  {
   "cell_type": "markdown",
   "id": "81345dda",
   "metadata": {},
   "source": [
    "comparison operator"
   ]
  },
  {
   "cell_type": "code",
   "execution_count": 1,
   "id": "82d5ebc8",
   "metadata": {},
   "outputs": [],
   "source": [
    "a=5"
   ]
  },
  {
   "cell_type": "code",
   "execution_count": 2,
   "id": "d06f3a34",
   "metadata": {},
   "outputs": [
    {
     "data": {
      "text/plain": [
       "True"
      ]
     },
     "execution_count": 2,
     "metadata": {},
     "output_type": "execute_result"
    }
   ],
   "source": [
    "a==5"
   ]
  },
  {
   "cell_type": "code",
   "execution_count": 3,
   "id": "f66be03f",
   "metadata": {},
   "outputs": [
    {
     "data": {
      "text/plain": [
       "False"
      ]
     },
     "execution_count": 3,
     "metadata": {},
     "output_type": "execute_result"
    }
   ],
   "source": [
    "a==9"
   ]
  },
  {
   "cell_type": "code",
   "execution_count": 4,
   "id": "fa153fed",
   "metadata": {},
   "outputs": [],
   "source": [
    "b='data'"
   ]
  },
  {
   "cell_type": "code",
   "execution_count": 5,
   "id": "2c000de9",
   "metadata": {},
   "outputs": [
    {
     "data": {
      "text/plain": [
       "True"
      ]
     },
     "execution_count": 5,
     "metadata": {},
     "output_type": "execute_result"
    }
   ],
   "source": [
    "b=='data'"
   ]
  },
  {
   "cell_type": "code",
   "execution_count": 6,
   "id": "69357978",
   "metadata": {},
   "outputs": [
    {
     "data": {
      "text/plain": [
       "False"
      ]
     },
     "execution_count": 6,
     "metadata": {},
     "output_type": "execute_result"
    }
   ],
   "source": [
    "b!='data'"
   ]
  },
  {
   "cell_type": "code",
   "execution_count": 8,
   "id": "983d9eb1",
   "metadata": {},
   "outputs": [
    {
     "data": {
      "text/plain": [
       "True"
      ]
     },
     "execution_count": 8,
     "metadata": {},
     "output_type": "execute_result"
    }
   ],
   "source": [
    "b=='Council'"
   ]
  },
  {
   "cell_type": "code",
   "execution_count": 9,
   "id": "3036ea7f",
   "metadata": {},
   "outputs": [],
   "source": [
    "c=10"
   ]
  },
  {
   "cell_type": "code",
   "execution_count": 10,
   "id": "2c0e7fac",
   "metadata": {},
   "outputs": [
    {
     "data": {
      "text/plain": [
       "True"
      ]
     },
     "execution_count": 10,
     "metadata": {},
     "output_type": "execute_result"
    }
   ],
   "source": [
    "c<=10"
   ]
  },
  {
   "cell_type": "code",
   "execution_count": 11,
   "id": "d56098d2",
   "metadata": {},
   "outputs": [
    {
     "data": {
      "text/plain": [
       "True"
      ]
     },
     "execution_count": 11,
     "metadata": {},
     "output_type": "execute_result"
    }
   ],
   "source": [
    "c>=10"
   ]
  },
  {
   "cell_type": "code",
   "execution_count": 12,
   "id": "c1e50f71",
   "metadata": {},
   "outputs": [
    {
     "data": {
      "text/plain": [
       "True"
      ]
     },
     "execution_count": 12,
     "metadata": {},
     "output_type": "execute_result"
    }
   ],
   "source": [
    "c<=20"
   ]
  },
  {
   "cell_type": "code",
   "execution_count": 13,
   "id": "05ae6555",
   "metadata": {},
   "outputs": [],
   "source": [
    "a='data'"
   ]
  },
  {
   "cell_type": "code",
   "execution_count": 15,
   "id": "3c2bafa6",
   "metadata": {},
   "outputs": [],
   "source": [
    "b='council'"
   ]
  },
  {
   "cell_type": "code",
   "execution_count": 16,
   "id": "45646a2e",
   "metadata": {},
   "outputs": [
    {
     "data": {
      "text/plain": [
       "'datacouncil'"
      ]
     },
     "execution_count": 16,
     "metadata": {},
     "output_type": "execute_result"
    }
   ],
   "source": [
    "a +''+b"
   ]
  },
  {
   "cell_type": "code",
   "execution_count": 17,
   "id": "418d8b4d",
   "metadata": {},
   "outputs": [],
   "source": [
    "c='new'"
   ]
  },
  {
   "cell_type": "code",
   "execution_count": 18,
   "id": "6c51f4f2",
   "metadata": {},
   "outputs": [
    {
     "data": {
      "text/plain": [
       "'new'"
      ]
     },
     "execution_count": 18,
     "metadata": {},
     "output_type": "execute_result"
    }
   ],
   "source": [
    "c"
   ]
  },
  {
   "cell_type": "code",
   "execution_count": 19,
   "id": "054f2dc2",
   "metadata": {},
   "outputs": [
    {
     "name": "stdout",
     "output_type": "stream",
     "text": [
      "new\n"
     ]
    }
   ],
   "source": [
    "print(c)"
   ]
  },
  {
   "cell_type": "code",
   "execution_count": 21,
   "id": "b39cae55",
   "metadata": {},
   "outputs": [],
   "source": [
    "d='year'"
   ]
  },
  {
   "cell_type": "code",
   "execution_count": 22,
   "id": "7e9dc3d2",
   "metadata": {},
   "outputs": [
    {
     "data": {
      "text/plain": [
       "'year'"
      ]
     },
     "execution_count": 22,
     "metadata": {},
     "output_type": "execute_result"
    }
   ],
   "source": [
    "d"
   ]
  },
  {
   "cell_type": "code",
   "execution_count": 24,
   "id": "f67204c9",
   "metadata": {},
   "outputs": [
    {
     "name": "stdout",
     "output_type": "stream",
     "text": [
      "newyear\n"
     ]
    }
   ],
   "source": [
    "print(c + d)"
   ]
  },
  {
   "cell_type": "code",
   "execution_count": null,
   "id": "89908066",
   "metadata": {},
   "outputs": [],
   "source": [
    "a = int(input(\"Enter your age\"))\n",
    "b = float(input('What is your salary'))\n",
    "\n",
    "print('Your age is ', a , 'Your salary is ' , b )"
   ]
  },
  {
   "cell_type": "code",
   "execution_count": null,
   "id": "de551dad",
   "metadata": {},
   "outputs": [],
   "source": []
  }
 ],
 "metadata": {
  "kernelspec": {
   "display_name": "Python 3 (ipykernel)",
   "language": "python",
   "name": "python3"
  },
  "language_info": {
   "codemirror_mode": {
    "name": "ipython",
    "version": 3
   },
   "file_extension": ".py",
   "mimetype": "text/x-python",
   "name": "python",
   "nbconvert_exporter": "python",
   "pygments_lexer": "ipython3",
   "version": "3.11.5"
  }
 },
 "nbformat": 4,
 "nbformat_minor": 5
}
