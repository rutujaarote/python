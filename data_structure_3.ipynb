{
 "cells": [
  {
   "cell_type": "markdown",
   "id": "29b34f99",
   "metadata": {},
   "source": [
    "remove()"
   ]
  },
  {
   "cell_type": "code",
   "execution_count": 1,
   "id": "ac2bcc3d",
   "metadata": {},
   "outputs": [],
   "source": [
    "a=[1,2,3,4,5,6,7,8,9]  #removing element"
   ]
  },
  {
   "cell_type": "code",
   "execution_count": 2,
   "id": "50b39c35",
   "metadata": {},
   "outputs": [],
   "source": [
    "a.remove(9)"
   ]
  },
  {
   "cell_type": "code",
   "execution_count": 3,
   "id": "1bd57a59",
   "metadata": {},
   "outputs": [
    {
     "data": {
      "text/plain": [
       "[1, 2, 3, 4, 5, 6, 7, 8]"
      ]
     },
     "execution_count": 3,
     "metadata": {},
     "output_type": "execute_result"
    }
   ],
   "source": [
    "a"
   ]
  },
  {
   "cell_type": "code",
   "execution_count": 6,
   "id": "fbcd3b19",
   "metadata": {},
   "outputs": [
    {
     "data": {
      "text/plain": [
       "True"
      ]
     },
     "execution_count": 6,
     "metadata": {},
     "output_type": "execute_result"
    }
   ],
   "source": [
    "3 in a"
   ]
  },
  {
   "cell_type": "code",
   "execution_count": 7,
   "id": "9f02dde6",
   "metadata": {},
   "outputs": [
    {
     "data": {
      "text/plain": [
       "8"
      ]
     },
     "execution_count": 7,
     "metadata": {},
     "output_type": "execute_result"
    }
   ],
   "source": [
    "a.pop() #removing only last element from the list"
   ]
  },
  {
   "cell_type": "code",
   "execution_count": 8,
   "id": "d1461cdc",
   "metadata": {},
   "outputs": [
    {
     "data": {
      "text/plain": [
       "[1, 2, 3, 4, 5, 6, 7]"
      ]
     },
     "execution_count": 8,
     "metadata": {},
     "output_type": "execute_result"
    }
   ],
   "source": [
    "a"
   ]
  },
  {
   "cell_type": "code",
   "execution_count": 12,
   "id": "3576477e",
   "metadata": {},
   "outputs": [
    {
     "data": {
      "text/plain": [
       "2"
      ]
     },
     "execution_count": 12,
     "metadata": {},
     "output_type": "execute_result"
    }
   ],
   "source": [
    "a.index(3) #finding index number of a specific element"
   ]
  },
  {
   "cell_type": "code",
   "execution_count": 13,
   "id": "8ecac236",
   "metadata": {},
   "outputs": [],
   "source": [
    "p=[2,5,9,3,4,1,]"
   ]
  },
  {
   "cell_type": "code",
   "execution_count": 14,
   "id": "1891767c",
   "metadata": {},
   "outputs": [
    {
     "data": {
      "text/plain": [
       "[2, 5, 9, 3, 4, 1]"
      ]
     },
     "execution_count": 14,
     "metadata": {},
     "output_type": "execute_result"
    }
   ],
   "source": [
    "p"
   ]
  },
  {
   "cell_type": "code",
   "execution_count": 15,
   "id": "d54090b6",
   "metadata": {},
   "outputs": [],
   "source": [
    "p.sort() #arranges in ascending order"
   ]
  },
  {
   "cell_type": "code",
   "execution_count": 16,
   "id": "11ddf925",
   "metadata": {},
   "outputs": [
    {
     "data": {
      "text/plain": [
       "[1, 2, 3, 4, 5, 9]"
      ]
     },
     "execution_count": 16,
     "metadata": {},
     "output_type": "execute_result"
    }
   ],
   "source": [
    "p"
   ]
  },
  {
   "cell_type": "code",
   "execution_count": 17,
   "id": "698a1744",
   "metadata": {},
   "outputs": [],
   "source": [
    "p.reverse() #reverse order"
   ]
  },
  {
   "cell_type": "code",
   "execution_count": 18,
   "id": "408e1381",
   "metadata": {},
   "outputs": [
    {
     "data": {
      "text/plain": [
       "[9, 5, 4, 3, 2, 1]"
      ]
     },
     "execution_count": 18,
     "metadata": {},
     "output_type": "execute_result"
    }
   ],
   "source": [
    "p"
   ]
  },
  {
   "cell_type": "code",
   "execution_count": 19,
   "id": "1b4b352c",
   "metadata": {},
   "outputs": [
    {
     "data": {
      "text/plain": [
       "[1, 2, 3, 4, 5, 9]"
      ]
     },
     "execution_count": 19,
     "metadata": {},
     "output_type": "execute_result"
    }
   ],
   "source": [
    "p[::-1]"
   ]
  },
  {
   "cell_type": "code",
   "execution_count": 21,
   "id": "75e0f95e",
   "metadata": {},
   "outputs": [
    {
     "data": {
      "text/plain": [
       "[1, 2, 3, 4, 5, 9]"
      ]
     },
     "execution_count": 21,
     "metadata": {},
     "output_type": "execute_result"
    }
   ],
   "source": [
    "p[-1::-1]"
   ]
  },
  {
   "cell_type": "code",
   "execution_count": 22,
   "id": "2014b1f0",
   "metadata": {},
   "outputs": [],
   "source": [
    "p.reverse()"
   ]
  },
  {
   "cell_type": "code",
   "execution_count": 23,
   "id": "e76dba12",
   "metadata": {},
   "outputs": [
    {
     "data": {
      "text/plain": [
       "[1, 2, 3, 4, 5, 9]"
      ]
     },
     "execution_count": 23,
     "metadata": {},
     "output_type": "execute_result"
    }
   ],
   "source": [
    "p"
   ]
  },
  {
   "cell_type": "code",
   "execution_count": 24,
   "id": "a699e10b",
   "metadata": {},
   "outputs": [],
   "source": [
    "p=[2,5,9,3,4,1,]"
   ]
  },
  {
   "cell_type": "code",
   "execution_count": 25,
   "id": "0e8dadad",
   "metadata": {},
   "outputs": [
    {
     "data": {
      "text/plain": [
       "[2, 5, 9, 3, 4, 1]"
      ]
     },
     "execution_count": 25,
     "metadata": {},
     "output_type": "execute_result"
    }
   ],
   "source": [
    "p"
   ]
  },
  {
   "cell_type": "code",
   "execution_count": 26,
   "id": "a17d2155",
   "metadata": {},
   "outputs": [],
   "source": [
    "p.reverse()"
   ]
  },
  {
   "cell_type": "code",
   "execution_count": 32,
   "id": "a7771666",
   "metadata": {},
   "outputs": [
    {
     "data": {
      "text/plain": [
       "[2, 5, 9, 3, 4, 1]"
      ]
     },
     "execution_count": 32,
     "metadata": {},
     "output_type": "execute_result"
    }
   ],
   "source": [
    "p[-1::-1]"
   ]
  },
  {
   "cell_type": "code",
   "execution_count": 33,
   "id": "9e577488",
   "metadata": {},
   "outputs": [],
   "source": [
    "name=['xyz','pqy']"
   ]
  },
  {
   "cell_type": "code",
   "execution_count": 34,
   "id": "64061609",
   "metadata": {},
   "outputs": [
    {
     "data": {
      "text/plain": [
       "['xyz', 'pqy']"
      ]
     },
     "execution_count": 34,
     "metadata": {},
     "output_type": "execute_result"
    }
   ],
   "source": [
    "name"
   ]
  },
  {
   "cell_type": "code",
   "execution_count": 36,
   "id": "296312b3",
   "metadata": {},
   "outputs": [],
   "source": [
    "name.insert(1,'jkl')"
   ]
  },
  {
   "cell_type": "code",
   "execution_count": 37,
   "id": "b5e28a26",
   "metadata": {},
   "outputs": [
    {
     "data": {
      "text/plain": [
       "['xyz', 'jkl', 'pqy']"
      ]
     },
     "execution_count": 37,
     "metadata": {},
     "output_type": "execute_result"
    }
   ],
   "source": [
    "name"
   ]
  },
  {
   "cell_type": "markdown",
   "id": "dd3453a1",
   "metadata": {},
   "source": [
    "Tuple=A tuple is in build data type  used to store an ordered and immutable sequence of elements\n",
    "tuples are similar to list but once created their elements cannot be modified"
   ]
  },
  {
   "cell_type": "code",
   "execution_count": 38,
   "id": "a5e43e49",
   "metadata": {},
   "outputs": [],
   "source": [
    "empty_tuple=()"
   ]
  },
  {
   "cell_type": "code",
   "execution_count": 40,
   "id": "10f59371",
   "metadata": {},
   "outputs": [
    {
     "data": {
      "text/plain": [
       "()"
      ]
     },
     "execution_count": 40,
     "metadata": {},
     "output_type": "execute_result"
    }
   ],
   "source": [
    "empty_tuple"
   ]
  },
  {
   "cell_type": "code",
   "execution_count": 41,
   "id": "c5cdfedb",
   "metadata": {},
   "outputs": [],
   "source": [
    "number=(1,2,3,4)"
   ]
  },
  {
   "cell_type": "code",
   "execution_count": 42,
   "id": "732ac255",
   "metadata": {},
   "outputs": [
    {
     "data": {
      "text/plain": [
       "(1, 2, 3, 4)"
      ]
     },
     "execution_count": 42,
     "metadata": {},
     "output_type": "execute_result"
    }
   ],
   "source": [
    "number"
   ]
  },
  {
   "cell_type": "code",
   "execution_count": 43,
   "id": "400ae2f2",
   "metadata": {},
   "outputs": [],
   "source": [
    "name=('a','b','c')"
   ]
  },
  {
   "cell_type": "code",
   "execution_count": 44,
   "id": "50e7f9ec",
   "metadata": {},
   "outputs": [
    {
     "data": {
      "text/plain": [
       "('a', 'b', 'c')"
      ]
     },
     "execution_count": 44,
     "metadata": {},
     "output_type": "execute_result"
    }
   ],
   "source": [
    "name"
   ]
  },
  {
   "cell_type": "code",
   "execution_count": 45,
   "id": "90b525d7",
   "metadata": {},
   "outputs": [],
   "source": [
    "mix=('10','riya',10.5)"
   ]
  },
  {
   "cell_type": "code",
   "execution_count": 46,
   "id": "adb3a812",
   "metadata": {},
   "outputs": [
    {
     "data": {
      "text/plain": [
       "('10', 'riya', 10.5)"
      ]
     },
     "execution_count": 46,
     "metadata": {},
     "output_type": "execute_result"
    }
   ],
   "source": [
    "mix"
   ]
  },
  {
   "cell_type": "code",
   "execution_count": null,
   "id": "fedd32f6",
   "metadata": {},
   "outputs": [],
   "source": []
  }
 ],
 "metadata": {
  "kernelspec": {
   "display_name": "Python 3 (ipykernel)",
   "language": "python",
   "name": "python3"
  },
  "language_info": {
   "codemirror_mode": {
    "name": "ipython",
    "version": 3
   },
   "file_extension": ".py",
   "mimetype": "text/x-python",
   "name": "python",
   "nbconvert_exporter": "python",
   "pygments_lexer": "ipython3",
   "version": "3.11.5"
  }
 },
 "nbformat": 4,
 "nbformat_minor": 5
}
