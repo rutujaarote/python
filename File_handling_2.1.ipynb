{
 "cells": [
  {
   "cell_type": "code",
   "execution_count": 1,
   "id": "9b458642",
   "metadata": {},
   "outputs": [
    {
     "name": "stdout",
     "output_type": "stream",
     "text": [
      "try block is executed\n",
      "I am at karvenagar\n"
     ]
    }
   ],
   "source": [
    "try:\n",
    "    f=open('file1','w')\n",
    "    f.write('we are testing try except blog')\n",
    "    f.close()\n",
    "except FileNotFoundError:\n",
    "    print('file not found at the location','except block is executed')\n",
    "else:\n",
    "    print('try block is executed')\n",
    "finally:\n",
    "    print('I am at karvenagar')"
   ]
  },
  {
   "cell_type": "code",
   "execution_count": 2,
   "id": "32a09856",
   "metadata": {},
   "outputs": [],
   "source": [
    "l=[12,13,14,15]"
   ]
  },
  {
   "cell_type": "code",
   "execution_count": 5,
   "id": "911ab8c7",
   "metadata": {},
   "outputs": [
    {
     "name": "stdout",
     "output_type": "stream",
     "text": [
      "12\n",
      "13\n",
      "14\n",
      "15\n"
     ]
    }
   ],
   "source": [
    "for i in l:\n",
    "    print(i)"
   ]
  },
  {
   "cell_type": "code",
   "execution_count": 7,
   "id": "61ac255f",
   "metadata": {},
   "outputs": [
    {
     "name": "stdout",
     "output_type": "stream",
     "text": [
      "error\n"
     ]
    }
   ],
   "source": [
    "try:\n",
    "    for i in range(len(h)):\n",
    "        print(i)\n",
    "except:\n",
    "        print('error')"
   ]
  },
  {
   "cell_type": "code",
   "execution_count": 10,
   "id": "11d9f370",
   "metadata": {},
   "outputs": [
    {
     "name": "stdout",
     "output_type": "stream",
     "text": [
      "12\n",
      "13\n",
      "14\n",
      "15\n"
     ]
    }
   ],
   "source": [
    "try:\n",
    "    for i in l:\n",
    "        print(i)\n",
    "except:\n",
    "    print('error')"
   ]
  },
  {
   "cell_type": "code",
   "execution_count": null,
   "id": "2e3b2416",
   "metadata": {},
   "outputs": [],
   "source": []
  }
 ],
 "metadata": {
  "kernelspec": {
   "display_name": "Python 3 (ipykernel)",
   "language": "python",
   "name": "python3"
  },
  "language_info": {
   "codemirror_mode": {
    "name": "ipython",
    "version": 3
   },
   "file_extension": ".py",
   "mimetype": "text/x-python",
   "name": "python",
   "nbconvert_exporter": "python",
   "pygments_lexer": "ipython3",
   "version": "3.11.5"
  }
 },
 "nbformat": 4,
 "nbformat_minor": 5
}
