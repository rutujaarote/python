{
 "cells": [
  {
   "cell_type": "markdown",
   "id": "dca49dca",
   "metadata": {},
   "source": [
    "Define a function named sum_all that takes any number of arguments using *args and returns the sum \n",
    "of all the numbers.\n",
    "Product Function:"
   ]
  },
  {
   "cell_type": "code",
   "execution_count": 3,
   "id": "22780758",
   "metadata": {},
   "outputs": [],
   "source": [
    "def add(*args):\n",
    "    return sum(args)"
   ]
  },
  {
   "cell_type": "code",
   "execution_count": 2,
   "id": "54001eec",
   "metadata": {},
   "outputs": [
    {
     "data": {
      "text/plain": [
       "15"
      ]
     },
     "execution_count": 2,
     "metadata": {},
     "output_type": "execute_result"
    }
   ],
   "source": [
    "add(1,2,3,4,5)"
   ]
  },
  {
   "cell_type": "markdown",
   "id": "59ba378b",
   "metadata": {},
   "source": [
    "Create a function named product_all that takes any number of arguments using *args and returns the \n",
    "product of all the numbers.\n",
    "Average Function:"
   ]
  },
  {
   "cell_type": "code",
   "execution_count": 46,
   "id": "a2dba133",
   "metadata": {},
   "outputs": [],
   "source": [
    "def product(*args):\n",
    "    multiply=1\n",
    "    for i in args:\n",
    "        multiply*=i\n",
    "        return multiply\n",
    "    "
   ]
  },
  {
   "cell_type": "code",
   "execution_count": 47,
   "id": "4cc0eef8",
   "metadata": {},
   "outputs": [
    {
     "data": {
      "text/plain": [
       "2"
      ]
     },
     "execution_count": 47,
     "metadata": {},
     "output_type": "execute_result"
    }
   ],
   "source": [
    "product(2,3,4,5)"
   ]
  },
  {
   "cell_type": "markdown",
   "id": "c4f16ff8",
   "metadata": {},
   "source": [
    "Write a function named average that calculates the average of any number of arguments passed using \n",
    "*args.\n",
    "Maximum Value Function:"
   ]
  },
  {
   "cell_type": "code",
   "execution_count": 11,
   "id": "b6c7cac1",
   "metadata": {},
   "outputs": [],
   "source": [
    "def average(*args):\n",
    "    total = sum(args)\n",
    "    length = len(args)\n",
    "    ave = total / length\n",
    "\n",
    "    return ave"
   ]
  },
  {
   "cell_type": "code",
   "execution_count": 12,
   "id": "b43c8a12",
   "metadata": {},
   "outputs": [
    {
     "data": {
      "text/plain": [
       "3.0"
      ]
     },
     "execution_count": 12,
     "metadata": {},
     "output_type": "execute_result"
    }
   ],
   "source": [
    "average(1,2,3,4,5)"
   ]
  },
  {
   "cell_type": "markdown",
   "id": "b37f9c30",
   "metadata": {},
   "source": [
    "Define a function named max_value that takes any number of arguments using *args and returns the \n",
    "maximum value.\n",
    "Join Strings Function:\n"
   ]
  },
  {
   "cell_type": "code",
   "execution_count": 14,
   "id": "fd902f69",
   "metadata": {},
   "outputs": [],
   "source": [
    "def max_value(*args):\n",
    "    return max_value"
   ]
  },
  {
   "cell_type": "code",
   "execution_count": 16,
   "id": "94e506e8",
   "metadata": {},
   "outputs": [
    {
     "data": {
      "text/plain": [
       "5"
      ]
     },
     "execution_count": 16,
     "metadata": {},
     "output_type": "execute_result"
    }
   ],
   "source": [
    "(max(1,2,3,4,5))"
   ]
  },
  {
   "cell_type": "code",
   "execution_count": 1,
   "id": "eb9c021f",
   "metadata": {},
   "outputs": [],
   "source": [
    "def max_values(*args):\n",
    "    max_values=max(args)\n",
    "    return max_value"
   ]
  },
  {
   "cell_type": "code",
   "execution_count": 3,
   "id": "4bae489f",
   "metadata": {},
   "outputs": [
    {
     "data": {
      "text/plain": [
       "5"
      ]
     },
     "execution_count": 3,
     "metadata": {},
     "output_type": "execute_result"
    }
   ],
   "source": [
    "max_values(1,2,3,4,5)"
   ]
  },
  {
   "cell_type": "markdown",
   "id": "726a8bb4",
   "metadata": {},
   "source": [
    "Create a function named join_strings that takes any number of string arguments using *args and \n",
    "concatenates them into a single string.\n",
    "Count Arguments Function:"
   ]
  },
  {
   "cell_type": "code",
   "execution_count": 32,
   "id": "3fd3143e",
   "metadata": {},
   "outputs": [],
   "source": [
    "def join_string(*args):\n",
    "    a=''.join(args)\n",
    "    return a"
   ]
  },
  {
   "cell_type": "code",
   "execution_count": 33,
   "id": "7f6df487",
   "metadata": {},
   "outputs": [
    {
     "data": {
      "text/plain": [
       "'rutujamohitshravani'"
      ]
     },
     "execution_count": 33,
     "metadata": {},
     "output_type": "execute_result"
    }
   ],
   "source": [
    "join_string('rutuja','mohit','shravani')"
   ]
  },
  {
   "cell_type": "markdown",
   "id": "22eed802",
   "metadata": {},
   "source": [
    "Implement a function named count_args that takes any number of arguments using *args and returns \n",
    "the count of arguments.\n",
    "Find Minimum Function:\n"
   ]
  },
  {
   "cell_type": "code",
   "execution_count": 7,
   "id": "21560132",
   "metadata": {},
   "outputs": [],
   "source": [
    "def counts(*args):\n",
    "    counts=len(args)\n",
    "    return counts"
   ]
  },
  {
   "cell_type": "code",
   "execution_count": 8,
   "id": "06177fd8",
   "metadata": {},
   "outputs": [
    {
     "data": {
      "text/plain": [
       "5"
      ]
     },
     "execution_count": 8,
     "metadata": {},
     "output_type": "execute_result"
    }
   ],
   "source": [
    "counts(1,2,3,5,7)"
   ]
  },
  {
   "cell_type": "markdown",
   "id": "5d63ae22",
   "metadata": {},
   "source": [
    "Write a function named find_min that takes any number of arguments using *args and returns the \n",
    "minimum value"
   ]
  },
  {
   "cell_type": "code",
   "execution_count": 9,
   "id": "59b47fcd",
   "metadata": {},
   "outputs": [],
   "source": [
    "def find_min(*args):\n",
    "    find_min=min(args)\n",
    "    return find_min"
   ]
  },
  {
   "cell_type": "code",
   "execution_count": 10,
   "id": "979dd200",
   "metadata": {},
   "outputs": [
    {
     "data": {
      "text/plain": [
       "2"
      ]
     },
     "execution_count": 10,
     "metadata": {},
     "output_type": "execute_result"
    }
   ],
   "source": [
    "find_min(2,3,7,8,33,14,56)"
   ]
  },
  {
   "cell_type": "markdown",
   "id": "35c79c55",
   "metadata": {},
   "source": [
    "Implement a function named check_even_odd that takes any number of integer arguments using *args \n",
    "and prints whether each number is even or odd"
   ]
  },
  {
   "cell_type": "code",
   "execution_count": 6,
   "id": "8fb024f6",
   "metadata": {},
   "outputs": [],
   "source": [
    "def even_odd(a):\n",
    "        if a%2==0:\n",
    "            print(\"number is even\")\n",
    "        else:\n",
    "            print(\"number is odd\")\n",
    "            return a"
   ]
  },
  {
   "cell_type": "code",
   "execution_count": 10,
   "id": "b1082016",
   "metadata": {},
   "outputs": [
    {
     "name": "stdout",
     "output_type": "stream",
     "text": [
      "number is even\n"
     ]
    }
   ],
   "source": [
    "even_odd(4)"
   ]
  },
  {
   "cell_type": "code",
   "execution_count": 9,
   "id": "2f7ce47b",
   "metadata": {},
   "outputs": [],
   "source": [
    "def reverse_string(*args):\n",
    "    l=[]\n",
    "    for i in args:\n",
    "        if type(i)==str:\n",
    "            a=i[::-1]\n",
    "            l.append(a)\n",
    "            return l\n",
    "            "
   ]
  },
  {
   "cell_type": "code",
   "execution_count": 16,
   "id": "e85e126a",
   "metadata": {},
   "outputs": [
    {
     "data": {
      "text/plain": [
       "['ajutur']"
      ]
     },
     "execution_count": 16,
     "metadata": {},
     "output_type": "execute_result"
    }
   ],
   "source": [
    "reverse_string('rutuja','mohit')"
   ]
  },
  {
   "cell_type": "code",
   "execution_count": null,
   "id": "29365943",
   "metadata": {},
   "outputs": [],
   "source": []
  },
  {
   "cell_type": "code",
   "execution_count": null,
   "id": "d59cf8e6",
   "metadata": {},
   "outputs": [],
   "source": []
  }
 ],
 "metadata": {
  "kernelspec": {
   "display_name": "Python 3 (ipykernel)",
   "language": "python",
   "name": "python3"
  },
  "language_info": {
   "codemirror_mode": {
    "name": "ipython",
    "version": 3
   },
   "file_extension": ".py",
   "mimetype": "text/x-python",
   "name": "python",
   "nbconvert_exporter": "python",
   "pygments_lexer": "ipython3",
   "version": "3.11.5"
  }
 },
 "nbformat": 4,
 "nbformat_minor": 5
}
