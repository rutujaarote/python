{
 "cells": [
  {
   "cell_type": "code",
   "execution_count": 3,
   "id": "d98ea020",
   "metadata": {},
   "outputs": [],
   "source": [
    "class car:\n",
    "    def __init__(self,body_type,engine,fuel,color):\n",
    "        self.body_type=body_type\n",
    "        self.engine=engine\n",
    "        self.fuel=fuel\n",
    "        self.color=color\n",
    "    def test(self):\n",
    "        print('this is my test in class of car')"
   ]
  },
  {
   "cell_type": "code",
   "execution_count": 4,
   "id": "b643aaf0",
   "metadata": {},
   "outputs": [],
   "source": [
    "nexon=car('SUV',1500,'petrol','Red')"
   ]
  },
  {
   "cell_type": "code",
   "execution_count": 6,
   "id": "1a0ed82c",
   "metadata": {},
   "outputs": [
    {
     "data": {
      "text/plain": [
       "'SUV'"
      ]
     },
     "execution_count": 6,
     "metadata": {},
     "output_type": "execute_result"
    }
   ],
   "source": [
    "nexon.body_type"
   ]
  },
  {
   "cell_type": "code",
   "execution_count": 7,
   "id": "2731027a",
   "metadata": {},
   "outputs": [
    {
     "data": {
      "text/plain": [
       "'Red'"
      ]
     },
     "execution_count": 7,
     "metadata": {},
     "output_type": "execute_result"
    }
   ],
   "source": [
    "nexon.color"
   ]
  },
  {
   "cell_type": "code",
   "execution_count": 8,
   "id": "506d4040",
   "metadata": {},
   "outputs": [
    {
     "data": {
      "text/plain": [
       "1500"
      ]
     },
     "execution_count": 8,
     "metadata": {},
     "output_type": "execute_result"
    }
   ],
   "source": [
    "nexon.engine"
   ]
  },
  {
   "cell_type": "code",
   "execution_count": 9,
   "id": "6dbe8294",
   "metadata": {},
   "outputs": [
    {
     "data": {
      "text/plain": [
       "'petrol'"
      ]
     },
     "execution_count": 9,
     "metadata": {},
     "output_type": "execute_result"
    }
   ],
   "source": [
    "nexon.fuel"
   ]
  },
  {
   "cell_type": "code",
   "execution_count": 11,
   "id": "60941b2e",
   "metadata": {},
   "outputs": [
    {
     "name": "stdout",
     "output_type": "stream",
     "text": [
      "this is my test in class of car\n"
     ]
    }
   ],
   "source": [
    "nexon.test()"
   ]
  },
  {
   "cell_type": "code",
   "execution_count": 13,
   "id": "c4ea9c11",
   "metadata": {},
   "outputs": [],
   "source": [
    "class house:\n",
    "    def __init__(self,area,bhk,floor,Type):\n",
    "        self.area=area\n",
    "        self.bhk=bhk\n",
    "        self.floor=floor\n",
    "        self.house_Type=Type"
   ]
  },
  {
   "cell_type": "code",
   "execution_count": 14,
   "id": "0678c019",
   "metadata": {},
   "outputs": [],
   "source": [
    "Rutuja=house('10000sq/ft','3bk','3rd floor','apartrment')"
   ]
  },
  {
   "cell_type": "code",
   "execution_count": 15,
   "id": "5c4fea2b",
   "metadata": {},
   "outputs": [
    {
     "data": {
      "text/plain": [
       "'10000sq/ft'"
      ]
     },
     "execution_count": 15,
     "metadata": {},
     "output_type": "execute_result"
    }
   ],
   "source": [
    "Rutuja.area"
   ]
  },
  {
   "cell_type": "code",
   "execution_count": 16,
   "id": "be359bd1",
   "metadata": {},
   "outputs": [
    {
     "data": {
      "text/plain": [
       "'3bk'"
      ]
     },
     "execution_count": 16,
     "metadata": {},
     "output_type": "execute_result"
    }
   ],
   "source": [
    "Rutuja.bhk"
   ]
  },
  {
   "cell_type": "code",
   "execution_count": 17,
   "id": "6dac0bc8",
   "metadata": {},
   "outputs": [
    {
     "data": {
      "text/plain": [
       "'3rd floor'"
      ]
     },
     "execution_count": 17,
     "metadata": {},
     "output_type": "execute_result"
    }
   ],
   "source": [
    "Rutuja.floor"
   ]
  },
  {
   "cell_type": "code",
   "execution_count": 18,
   "id": "384d3d94",
   "metadata": {},
   "outputs": [
    {
     "data": {
      "text/plain": [
       "'apartrment'"
      ]
     },
     "execution_count": 18,
     "metadata": {},
     "output_type": "execute_result"
    }
   ],
   "source": [
    "Rutuja.house_Type"
   ]
  },
  {
   "cell_type": "code",
   "execution_count": 34,
   "id": "59f48749",
   "metadata": {},
   "outputs": [],
   "source": [
    "class number_game:\n",
    "    def __init__(self,a):\n",
    "        self.a=a\n",
    "    def test1(self):\n",
    "        return self.a + 10\n",
    "    def test2(self):\n",
    "        return self.a - 5\n",
    "    def test3(self):\n",
    "        return self.a * 3\n",
    "    "
   ]
  },
  {
   "cell_type": "code",
   "execution_count": 35,
   "id": "2d55e7b5",
   "metadata": {},
   "outputs": [],
   "source": [
    "arithmetic_operation=number_game(10)"
   ]
  },
  {
   "cell_type": "code",
   "execution_count": 29,
   "id": "3c12e2d4",
   "metadata": {},
   "outputs": [
    {
     "data": {
      "text/plain": [
       "10"
      ]
     },
     "execution_count": 29,
     "metadata": {},
     "output_type": "execute_result"
    }
   ],
   "source": [
    "arithmetic_operation.a"
   ]
  },
  {
   "cell_type": "code",
   "execution_count": 30,
   "id": "e3488bb5",
   "metadata": {},
   "outputs": [
    {
     "data": {
      "text/plain": [
       "20"
      ]
     },
     "execution_count": 30,
     "metadata": {},
     "output_type": "execute_result"
    }
   ],
   "source": [
    "arithmetic_operation.test1()"
   ]
  },
  {
   "cell_type": "code",
   "execution_count": 31,
   "id": "4d0b3a99",
   "metadata": {},
   "outputs": [
    {
     "data": {
      "text/plain": [
       "5"
      ]
     },
     "execution_count": 31,
     "metadata": {},
     "output_type": "execute_result"
    }
   ],
   "source": [
    "arithmetic_operation.test2()"
   ]
  },
  {
   "cell_type": "code",
   "execution_count": 36,
   "id": "fd2f0f84",
   "metadata": {},
   "outputs": [
    {
     "data": {
      "text/plain": [
       "30"
      ]
     },
     "execution_count": 36,
     "metadata": {},
     "output_type": "execute_result"
    }
   ],
   "source": [
    "arithmetic_operation.test3()"
   ]
  },
  {
   "cell_type": "code",
   "execution_count": 37,
   "id": "30cc4118",
   "metadata": {},
   "outputs": [],
   "source": [
    "class list_parcer:\n",
    "    def __init__(self,a):\n",
    "        self.a=a\n",
    "    def parcer(self):\n",
    "        if type(self.a)==list:\n",
    "            for i in self.a:\n",
    "                print(i)\n",
    "    def reverse(self):\n",
    "        if type(self.a)==list:\n",
    "            return self.a[::-1]"
   ]
  },
  {
   "cell_type": "code",
   "execution_count": 38,
   "id": "3df09927",
   "metadata": {},
   "outputs": [],
   "source": [
    "b=list_parcer([1,2,3,4,5])"
   ]
  },
  {
   "cell_type": "code",
   "execution_count": 39,
   "id": "b5a0dca2",
   "metadata": {},
   "outputs": [
    {
     "data": {
      "text/plain": [
       "[1, 2, 3, 4, 5]"
      ]
     },
     "execution_count": 39,
     "metadata": {},
     "output_type": "execute_result"
    }
   ],
   "source": [
    "b.a"
   ]
  },
  {
   "cell_type": "code",
   "execution_count": 40,
   "id": "8c7eec78",
   "metadata": {},
   "outputs": [
    {
     "name": "stdout",
     "output_type": "stream",
     "text": [
      "1\n",
      "2\n",
      "3\n",
      "4\n",
      "5\n"
     ]
    }
   ],
   "source": [
    "b.parcer()"
   ]
  },
  {
   "cell_type": "code",
   "execution_count": 41,
   "id": "174f608c",
   "metadata": {},
   "outputs": [
    {
     "data": {
      "text/plain": [
       "[5, 4, 3, 2, 1]"
      ]
     },
     "execution_count": 41,
     "metadata": {},
     "output_type": "execute_result"
    }
   ],
   "source": [
    "b.reverse()"
   ]
  },
  {
   "cell_type": "code",
   "execution_count": null,
   "id": "9c7cb800",
   "metadata": {},
   "outputs": [],
   "source": []
  }
 ],
 "metadata": {
  "kernelspec": {
   "display_name": "Python 3 (ipykernel)",
   "language": "python",
   "name": "python3"
  },
  "language_info": {
   "codemirror_mode": {
    "name": "ipython",
    "version": 3
   },
   "file_extension": ".py",
   "mimetype": "text/x-python",
   "name": "python",
   "nbconvert_exporter": "python",
   "pygments_lexer": "ipython3",
   "version": "3.11.5"
  }
 },
 "nbformat": 4,
 "nbformat_minor": 5
}
