{
 "cells": [
  {
   "cell_type": "code",
   "execution_count": 5,
   "id": "2f504741",
   "metadata": {},
   "outputs": [],
   "source": [
    "class xyz:\n",
    "    def __init__(self,a,b,c):\n",
    "        self.a=a\n",
    "        self._b=b\n",
    "        self.__c=c\n",
    "class xyz2(xyz):\n",
    "        pass"
   ]
  },
  {
   "cell_type": "code",
   "execution_count": 6,
   "id": "6b9f10dd",
   "metadata": {},
   "outputs": [],
   "source": [
    "x=xyz2(1,2,3)"
   ]
  },
  {
   "cell_type": "code",
   "execution_count": 8,
   "id": "752ce884",
   "metadata": {},
   "outputs": [
    {
     "data": {
      "text/plain": [
       "1"
      ]
     },
     "execution_count": 8,
     "metadata": {},
     "output_type": "execute_result"
    }
   ],
   "source": [
    "x.a"
   ]
  },
  {
   "cell_type": "code",
   "execution_count": 9,
   "id": "f27403e0",
   "metadata": {},
   "outputs": [
    {
     "data": {
      "text/plain": [
       "2"
      ]
     },
     "execution_count": 9,
     "metadata": {},
     "output_type": "execute_result"
    }
   ],
   "source": [
    "x._b"
   ]
  },
  {
   "cell_type": "code",
   "execution_count": 10,
   "id": "522a0251",
   "metadata": {},
   "outputs": [
    {
     "data": {
      "text/plain": [
       "3"
      ]
     },
     "execution_count": 10,
     "metadata": {},
     "output_type": "execute_result"
    }
   ],
   "source": [
    "x._xyz__c"
   ]
  },
  {
   "cell_type": "code",
   "execution_count": 23,
   "id": "aa74ab9a",
   "metadata": {},
   "outputs": [],
   "source": [
    "class Animal:\n",
    "    def make_sound(self):\n",
    "        print('animal makes sound')\n",
    "class Dog(Animal):\n",
    "    def make_sound(self):\n",
    "            print('dog barks')\n",
    "class Cat(Animal):\n",
    "        def make_sound(self):\n",
    "            print('cat meows')\n",
    "                "
   ]
  },
  {
   "cell_type": "code",
   "execution_count": 19,
   "id": "fcc5e00c",
   "metadata": {},
   "outputs": [],
   "source": [
    "d=Dog()"
   ]
  },
  {
   "cell_type": "code",
   "execution_count": 20,
   "id": "7ec237a0",
   "metadata": {},
   "outputs": [
    {
     "name": "stdout",
     "output_type": "stream",
     "text": [
      "dog barks\n"
     ]
    }
   ],
   "source": [
    "d.make_sound()"
   ]
  },
  {
   "cell_type": "code",
   "execution_count": 24,
   "id": "5322eaa2",
   "metadata": {},
   "outputs": [],
   "source": [
    "c=Cat()"
   ]
  },
  {
   "cell_type": "code",
   "execution_count": 26,
   "id": "0d0c3d33",
   "metadata": {},
   "outputs": [
    {
     "name": "stdout",
     "output_type": "stream",
     "text": [
      "cat meows\n"
     ]
    }
   ],
   "source": [
    "c.make_sound()"
   ]
  },
  {
   "cell_type": "code",
   "execution_count": 27,
   "id": "08c22ee3",
   "metadata": {},
   "outputs": [],
   "source": [
    "elephant=Animal()"
   ]
  },
  {
   "cell_type": "code",
   "execution_count": 29,
   "id": "0a6b78fa",
   "metadata": {},
   "outputs": [
    {
     "name": "stdout",
     "output_type": "stream",
     "text": [
      "animal makes sound\n"
     ]
    }
   ],
   "source": [
    "elephant.make_sound()"
   ]
  },
  {
   "cell_type": "code",
   "execution_count": 4,
   "id": "b28884e9",
   "metadata": {},
   "outputs": [],
   "source": [
    "class shape:\n",
    "    def area(self):\n",
    "        pass\n",
    "class Reactangle(shape):\n",
    "    def __init__(self,w,h):\n",
    "        self.w=w\n",
    "        self.h=h\n",
    "    def area(self):\n",
    "        return self.w*self.h\n",
    "class Circle(shape):\n",
    "    def __init__(self,radius):\n",
    "        self.radius=radius\n",
    "    def area(self):\n",
    "        return 3.14 *self.radius **2"
   ]
  },
  {
   "cell_type": "code",
   "execution_count": 5,
   "id": "a64595ad",
   "metadata": {},
   "outputs": [],
   "source": [
    "react=Reactangle(5,4)"
   ]
  },
  {
   "cell_type": "code",
   "execution_count": 6,
   "id": "7d7eeda3",
   "metadata": {},
   "outputs": [
    {
     "data": {
      "text/plain": [
       "20"
      ]
     },
     "execution_count": 6,
     "metadata": {},
     "output_type": "execute_result"
    }
   ],
   "source": [
    "react.area()"
   ]
  },
  {
   "cell_type": "code",
   "execution_count": 8,
   "id": "ac115352",
   "metadata": {},
   "outputs": [
    {
     "data": {
      "text/plain": [
       "4"
      ]
     },
     "execution_count": 8,
     "metadata": {},
     "output_type": "execute_result"
    }
   ],
   "source": [
    "react.h"
   ]
  },
  {
   "cell_type": "code",
   "execution_count": 9,
   "id": "0885f161",
   "metadata": {},
   "outputs": [
    {
     "data": {
      "text/plain": [
       "5"
      ]
     },
     "execution_count": 9,
     "metadata": {},
     "output_type": "execute_result"
    }
   ],
   "source": [
    "react.w"
   ]
  },
  {
   "cell_type": "code",
   "execution_count": 10,
   "id": "472d65ac",
   "metadata": {},
   "outputs": [],
   "source": [
    "c=Circle(10)"
   ]
  },
  {
   "cell_type": "code",
   "execution_count": 13,
   "id": "29a9382d",
   "metadata": {},
   "outputs": [
    {
     "data": {
      "text/plain": [
       "314.0"
      ]
     },
     "execution_count": 13,
     "metadata": {},
     "output_type": "execute_result"
    }
   ],
   "source": [
    "c.area()"
   ]
  },
  {
   "cell_type": "code",
   "execution_count": 14,
   "id": "c76ca3cf",
   "metadata": {},
   "outputs": [
    {
     "data": {
      "text/plain": [
       "10"
      ]
     },
     "execution_count": 14,
     "metadata": {},
     "output_type": "execute_result"
    }
   ],
   "source": [
    "c.radius"
   ]
  },
  {
   "cell_type": "code",
   "execution_count": 15,
   "id": "c8d0c6c9",
   "metadata": {},
   "outputs": [],
   "source": [
    "class Social_media:\n",
    "    def share_stories(self):\n",
    "        print('share a story')\n",
    "    def upload_pic(self):\n",
    "        print('This will help me to upload picture')\n",
    "class Facebook(Social_media):\n",
    "    def share_stories(self):\n",
    "        print(\"This will help me to share story on facebook\")\n",
    "class Instagram(Social_media):\n",
    "    def share_stories(self):\n",
    "        print(\"This will help me to share story on instagram\")"
   ]
  },
  {
   "cell_type": "code",
   "execution_count": 17,
   "id": "5fcb5965",
   "metadata": {},
   "outputs": [],
   "source": [
    "f=Facebook()"
   ]
  },
  {
   "cell_type": "code",
   "execution_count": 18,
   "id": "9ae9436a",
   "metadata": {},
   "outputs": [
    {
     "name": "stdout",
     "output_type": "stream",
     "text": [
      "This will help me to share story on facebook\n"
     ]
    }
   ],
   "source": [
    "f.share_stories()"
   ]
  },
  {
   "cell_type": "code",
   "execution_count": 19,
   "id": "c762ed09",
   "metadata": {},
   "outputs": [
    {
     "name": "stdout",
     "output_type": "stream",
     "text": [
      "This will help me to upload picture\n"
     ]
    }
   ],
   "source": [
    "f.upload_pic()"
   ]
  },
  {
   "cell_type": "code",
   "execution_count": 20,
   "id": "cd3d10b1",
   "metadata": {},
   "outputs": [],
   "source": [
    "i=Instagram()"
   ]
  },
  {
   "cell_type": "code",
   "execution_count": 21,
   "id": "aa0ade27",
   "metadata": {},
   "outputs": [
    {
     "name": "stdout",
     "output_type": "stream",
     "text": [
      "This will help me to share story on instagram\n"
     ]
    }
   ],
   "source": [
    "i.share_stories()"
   ]
  },
  {
   "cell_type": "code",
   "execution_count": 22,
   "id": "29f7576d",
   "metadata": {},
   "outputs": [
    {
     "name": "stdout",
     "output_type": "stream",
     "text": [
      "This will help me to upload picture\n"
     ]
    }
   ],
   "source": [
    "i.upload_pic()"
   ]
  },
  {
   "cell_type": "code",
   "execution_count": 23,
   "id": "d3aaf4ac",
   "metadata": {},
   "outputs": [],
   "source": [
    "s=Social_media()"
   ]
  },
  {
   "cell_type": "code",
   "execution_count": 24,
   "id": "cd057165",
   "metadata": {},
   "outputs": [
    {
     "name": "stdout",
     "output_type": "stream",
     "text": [
      "share a story\n"
     ]
    }
   ],
   "source": [
    "s.share_stories()"
   ]
  },
  {
   "cell_type": "code",
   "execution_count": 25,
   "id": "f323d59f",
   "metadata": {},
   "outputs": [
    {
     "name": "stdout",
     "output_type": "stream",
     "text": [
      "This will help me to upload picture\n"
     ]
    }
   ],
   "source": [
    "s.upload_pic()"
   ]
  },
  {
   "cell_type": "code",
   "execution_count": null,
   "id": "c26ad57c",
   "metadata": {},
   "outputs": [],
   "source": []
  }
 ],
 "metadata": {
  "kernelspec": {
   "display_name": "Python 3 (ipykernel)",
   "language": "python",
   "name": "python3"
  },
  "language_info": {
   "codemirror_mode": {
    "name": "ipython",
    "version": 3
   },
   "file_extension": ".py",
   "mimetype": "text/x-python",
   "name": "python",
   "nbconvert_exporter": "python",
   "pygments_lexer": "ipython3",
   "version": "3.11.5"
  }
 },
 "nbformat": 4,
 "nbformat_minor": 5
}
