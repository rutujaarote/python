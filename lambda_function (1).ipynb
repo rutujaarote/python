{
 "cells": [
  {
   "cell_type": "code",
   "execution_count": 1,
   "id": "88435909",
   "metadata": {},
   "outputs": [],
   "source": [
    "b=lambda a:a*2"
   ]
  },
  {
   "cell_type": "code",
   "execution_count": 2,
   "id": "d0441cbd",
   "metadata": {},
   "outputs": [
    {
     "data": {
      "text/plain": [
       "20"
      ]
     },
     "execution_count": 2,
     "metadata": {},
     "output_type": "execute_result"
    }
   ],
   "source": [
    "b(10)"
   ]
  },
  {
   "cell_type": "code",
   "execution_count": 3,
   "id": "74f30bff",
   "metadata": {},
   "outputs": [],
   "source": [
    "v=lambda a,b:a*b"
   ]
  },
  {
   "cell_type": "code",
   "execution_count": 4,
   "id": "9412db32",
   "metadata": {},
   "outputs": [
    {
     "data": {
      "text/plain": [
       "10"
      ]
     },
     "execution_count": 4,
     "metadata": {},
     "output_type": "execute_result"
    }
   ],
   "source": [
    "v(5,2)"
   ]
  },
  {
   "cell_type": "code",
   "execution_count": 5,
   "id": "f98edee5",
   "metadata": {},
   "outputs": [],
   "source": [
    "h=lambda *args:args"
   ]
  },
  {
   "cell_type": "code",
   "execution_count": 6,
   "id": "4c9851d8",
   "metadata": {},
   "outputs": [
    {
     "data": {
      "text/plain": [
       "(1, 2, 3, 4, 5)"
      ]
     },
     "execution_count": 6,
     "metadata": {},
     "output_type": "execute_result"
    }
   ],
   "source": [
    "h(1,2,3,4,5)"
   ]
  },
  {
   "cell_type": "code",
   "execution_count": 7,
   "id": "67133c13",
   "metadata": {},
   "outputs": [],
   "source": [
    "x=lambda a,b:(a+b,a*b)"
   ]
  },
  {
   "cell_type": "code",
   "execution_count": 8,
   "id": "549a14c3",
   "metadata": {},
   "outputs": [
    {
     "data": {
      "text/plain": [
       "(7, 10)"
      ]
     },
     "execution_count": 8,
     "metadata": {},
     "output_type": "execute_result"
    }
   ],
   "source": [
    "x(5,2)"
   ]
  },
  {
   "cell_type": "code",
   "execution_count": 10,
   "id": "d117e899",
   "metadata": {},
   "outputs": [],
   "source": [
    "y=lambda y:[i for i in y]"
   ]
  },
  {
   "cell_type": "code",
   "execution_count": 11,
   "id": "8307bb13",
   "metadata": {},
   "outputs": [
    {
     "data": {
      "text/plain": [
       "[1, 2, 3, 4]"
      ]
     },
     "execution_count": 11,
     "metadata": {},
     "output_type": "execute_result"
    }
   ],
   "source": [
    "y([1,2,3,4])"
   ]
  },
  {
   "cell_type": "code",
   "execution_count": 12,
   "id": "5293b557",
   "metadata": {},
   "outputs": [],
   "source": [
    "x=lambda x:[i**2 for i in x]"
   ]
  },
  {
   "cell_type": "code",
   "execution_count": 13,
   "id": "9d1da478",
   "metadata": {},
   "outputs": [
    {
     "data": {
      "text/plain": [
       "[1, 4, 9, 16, 25, 36]"
      ]
     },
     "execution_count": 13,
     "metadata": {},
     "output_type": "execute_result"
    }
   ],
   "source": [
    "x([1,2,3,4,5,6])"
   ]
  },
  {
   "cell_type": "code",
   "execution_count": null,
   "id": "7dc5a6fe",
   "metadata": {},
   "outputs": [],
   "source": []
  }
 ],
 "metadata": {
  "kernelspec": {
   "display_name": "Python 3 (ipykernel)",
   "language": "python",
   "name": "python3"
  },
  "language_info": {
   "codemirror_mode": {
    "name": "ipython",
    "version": 3
   },
   "file_extension": ".py",
   "mimetype": "text/x-python",
   "name": "python",
   "nbconvert_exporter": "python",
   "pygments_lexer": "ipython3",
   "version": "3.11.5"
  }
 },
 "nbformat": 4,
 "nbformat_minor": 5
}
