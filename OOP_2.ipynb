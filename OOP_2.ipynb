{
 "cells": [
  {
   "cell_type": "code",
   "execution_count": 12,
   "id": "07876bf8",
   "metadata": {},
   "outputs": [],
   "source": [
    "class dict_parcer:\n",
    "    def __init__(self,a):\n",
    "        self.a = a\n",
    "        \n",
    "    def parcer(self):\n",
    "        if type(self.a) == dict:\n",
    "            return self.a.keys()\n",
    "                \n",
    "                \n",
    "    def values(self):\n",
    "        if type(self.a) == dict:\n",
    "            return self.a.values()\n",
    "           "
   ]
  },
  {
   "cell_type": "code",
   "execution_count": 13,
   "id": "28c4e862",
   "metadata": {},
   "outputs": [],
   "source": [
    "b=dict_parcer({'name':'rutuja','age':20})"
   ]
  },
  {
   "cell_type": "code",
   "execution_count": 9,
   "id": "2bc1e8d3",
   "metadata": {},
   "outputs": [
    {
     "data": {
      "text/plain": [
       "{'name': 'rutuja', 'age': 20}"
      ]
     },
     "execution_count": 9,
     "metadata": {},
     "output_type": "execute_result"
    }
   ],
   "source": [
    "b.a"
   ]
  },
  {
   "cell_type": "code",
   "execution_count": 10,
   "id": "73768fab",
   "metadata": {},
   "outputs": [
    {
     "data": {
      "text/plain": [
       "dict_keys(['name', 'age'])"
      ]
     },
     "execution_count": 10,
     "metadata": {},
     "output_type": "execute_result"
    }
   ],
   "source": [
    "b.parcer()"
   ]
  },
  {
   "cell_type": "code",
   "execution_count": 14,
   "id": "2b227222",
   "metadata": {},
   "outputs": [
    {
     "data": {
      "text/plain": [
       "dict_values(['rutuja', 20])"
      ]
     },
     "execution_count": 14,
     "metadata": {},
     "output_type": "execute_result"
    }
   ],
   "source": [
    "b.values()"
   ]
  },
  {
   "cell_type": "markdown",
   "id": "5fe19443",
   "metadata": {},
   "source": [
    "# Inheritance"
   ]
  },
  {
   "cell_type": "code",
   "execution_count": 8,
   "id": "ffc0a023",
   "metadata": {},
   "outputs": [],
   "source": [
    "class xyz:\n",
    "    def __init__(self,a,b,c):\n",
    "        self.a=a\n",
    "        self.b=b\n",
    "        self.c=c\n",
    "        def test(self):\n",
    "            print('This is my test function in class xyz')\n",
    "        def test2(self):\n",
    "            print('This is my test2 function in class of xyz')\n",
    "        class xyz2(xyz):\n",
    "            pass"
   ]
  },
  {
   "cell_type": "markdown",
   "id": "3257f5f3",
   "metadata": {},
   "source": [
    "# Public,protected ,private"
   ]
  },
  {
   "cell_type": "code",
   "execution_count": 11,
   "id": "3b825233",
   "metadata": {},
   "outputs": [],
   "source": [
    "class info:\n",
    "    def __init__(self,name,age,surname):\n",
    "        self.name=name\n",
    "        self._age=age\n",
    "        self.__surname=surname"
   ]
  },
  {
   "cell_type": "code",
   "execution_count": 12,
   "id": "e913037e",
   "metadata": {},
   "outputs": [],
   "source": [
    "d=info('rutuja',20,'arote')"
   ]
  },
  {
   "cell_type": "code",
   "execution_count": 13,
   "id": "471fc96e",
   "metadata": {},
   "outputs": [
    {
     "data": {
      "text/plain": [
       "'rutuja'"
      ]
     },
     "execution_count": 13,
     "metadata": {},
     "output_type": "execute_result"
    }
   ],
   "source": [
    "d.name #public"
   ]
  },
  {
   "cell_type": "code",
   "execution_count": 14,
   "id": "3ebaaad3",
   "metadata": {},
   "outputs": [
    {
     "data": {
      "text/plain": [
       "20"
      ]
     },
     "execution_count": 14,
     "metadata": {},
     "output_type": "execute_result"
    }
   ],
   "source": [
    "d._age #potected"
   ]
  },
  {
   "cell_type": "code",
   "execution_count": 15,
   "id": "6955a07d",
   "metadata": {},
   "outputs": [
    {
     "data": {
      "text/plain": [
       "'arote'"
      ]
     },
     "execution_count": 15,
     "metadata": {},
     "output_type": "execute_result"
    }
   ],
   "source": [
    "d._info__surname #private"
   ]
  },
  {
   "cell_type": "code",
   "execution_count": null,
   "id": "6536c178",
   "metadata": {},
   "outputs": [],
   "source": []
  }
 ],
 "metadata": {
  "kernelspec": {
   "display_name": "Python 3 (ipykernel)",
   "language": "python",
   "name": "python3"
  },
  "language_info": {
   "codemirror_mode": {
    "name": "ipython",
    "version": 3
   },
   "file_extension": ".py",
   "mimetype": "text/x-python",
   "name": "python",
   "nbconvert_exporter": "python",
   "pygments_lexer": "ipython3",
   "version": "3.11.5"
  }
 },
 "nbformat": 4,
 "nbformat_minor": 5
}
