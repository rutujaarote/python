{
 "cells": [
  {
   "cell_type": "markdown",
   "id": "13bbf2a0",
   "metadata": {},
   "source": [
    "# for loop"
   ]
  },
  {
   "cell_type": "code",
   "execution_count": 1,
   "id": "53b7fa33",
   "metadata": {},
   "outputs": [
    {
     "data": {
      "text/plain": [
       "range(0, 10)"
      ]
     },
     "execution_count": 1,
     "metadata": {},
     "output_type": "execute_result"
    }
   ],
   "source": [
    "range(0,10) #A for loop is used for iterating over a sequence"
   ]
  },
  {
   "cell_type": "code",
   "execution_count": 2,
   "id": "f33e262d",
   "metadata": {},
   "outputs": [],
   "source": [
    "l=[1,2,3,4,5]"
   ]
  },
  {
   "cell_type": "code",
   "execution_count": 3,
   "id": "adf6ea04",
   "metadata": {},
   "outputs": [
    {
     "name": "stdout",
     "output_type": "stream",
     "text": [
      "1\n",
      "2\n",
      "3\n",
      "4\n",
      "5\n"
     ]
    }
   ],
   "source": [
    "for i in l:\n",
    "    print(i)"
   ]
  },
  {
   "cell_type": "code",
   "execution_count": 4,
   "id": "1752e950",
   "metadata": {},
   "outputs": [],
   "source": [
    "j=range(0,10)"
   ]
  },
  {
   "cell_type": "code",
   "execution_count": 5,
   "id": "67a91d31",
   "metadata": {},
   "outputs": [
    {
     "name": "stdout",
     "output_type": "stream",
     "text": [
      "0\n",
      "1\n",
      "2\n",
      "3\n",
      "4\n",
      "5\n",
      "6\n",
      "7\n",
      "8\n",
      "9\n"
     ]
    }
   ],
   "source": [
    "for elements in j:\n",
    "    print(elements)"
   ]
  },
  {
   "cell_type": "code",
   "execution_count": 9,
   "id": "96a11f4d",
   "metadata": {},
   "outputs": [
    {
     "name": "stdout",
     "output_type": "stream",
     "text": [
      "0\n",
      "2\n",
      "4\n",
      "6\n",
      "8\n",
      "10\n",
      "12\n",
      "14\n",
      "16\n",
      "18\n",
      "20\n"
     ]
    }
   ],
   "source": [
    "for numbers in range(0,21,2):\n",
    "     print(numbers)"
   ]
  },
  {
   "cell_type": "code",
   "execution_count": 10,
   "id": "451f7879",
   "metadata": {},
   "outputs": [
    {
     "name": "stdout",
     "output_type": "stream",
     "text": [
      "0\n",
      "3\n",
      "6\n",
      "9\n",
      "12\n",
      "15\n",
      "18\n",
      "21\n",
      "24\n",
      "27\n"
     ]
    }
   ],
   "source": [
    "for num in range(0,30,3):\n",
    "    print(num)\n"
   ]
  },
  {
   "cell_type": "code",
   "execution_count": 11,
   "id": "0283d608",
   "metadata": {},
   "outputs": [],
   "source": [
    "j=(1,2,3,4,5)"
   ]
  },
  {
   "cell_type": "code",
   "execution_count": 12,
   "id": "60b0edf4",
   "metadata": {},
   "outputs": [
    {
     "data": {
      "text/plain": [
       "5"
      ]
     },
     "execution_count": 12,
     "metadata": {},
     "output_type": "execute_result"
    }
   ],
   "source": [
    "len(j)"
   ]
  },
  {
   "cell_type": "code",
   "execution_count": 14,
   "id": "e1029469",
   "metadata": {},
   "outputs": [
    {
     "name": "stdout",
     "output_type": "stream",
     "text": [
      "d\n",
      "a\n",
      "t\n",
      "a\n"
     ]
    }
   ],
   "source": [
    "for i in 'data':\n",
    "    print(i)"
   ]
  },
  {
   "cell_type": "code",
   "execution_count": 15,
   "id": "41659a99",
   "metadata": {},
   "outputs": [
    {
     "name": "stdout",
     "output_type": "stream",
     "text": [
      "12\n",
      "13\n",
      "14\n",
      "15\n",
      "16\n"
     ]
    }
   ],
   "source": [
    "j=(12,13,14,15,16)\n",
    "for i in j:\n",
    "    print(i)"
   ]
  },
  {
   "cell_type": "code",
   "execution_count": 16,
   "id": "e9f33534",
   "metadata": {},
   "outputs": [
    {
     "name": "stdout",
     "output_type": "stream",
     "text": [
      "data\n",
      "data\n",
      "data\n",
      "data\n",
      "data\n"
     ]
    }
   ],
   "source": [
    "for i in range(len(j)):\n",
    "    print('data')"
   ]
  },
  {
   "cell_type": "code",
   "execution_count": 17,
   "id": "c8a3a6e6",
   "metadata": {},
   "outputs": [],
   "source": [
    "a=(10,20,30,40,50)"
   ]
  },
  {
   "cell_type": "code",
   "execution_count": 18,
   "id": "19278987",
   "metadata": {},
   "outputs": [
    {
     "name": "stdout",
     "output_type": "stream",
     "text": [
      "15\n",
      "25\n",
      "35\n",
      "45\n",
      "55\n"
     ]
    }
   ],
   "source": [
    "for i in a:\n",
    "    print(i+5)"
   ]
  },
  {
   "cell_type": "code",
   "execution_count": 19,
   "id": "c93ccce6",
   "metadata": {},
   "outputs": [
    {
     "name": "stdout",
     "output_type": "stream",
     "text": [
      "5\n",
      "15\n",
      "25\n",
      "35\n",
      "45\n"
     ]
    }
   ],
   "source": [
    "for i in a:\n",
    "    print(i-5)"
   ]
  },
  {
   "cell_type": "code",
   "execution_count": 22,
   "id": "cfd9b01e",
   "metadata": {},
   "outputs": [
    {
     "name": "stdout",
     "output_type": "stream",
     "text": [
      "0\n",
      "3\n",
      "6\n",
      "9\n",
      "12\n",
      "15\n",
      "18\n",
      "21\n",
      "24\n",
      "27\n",
      "30\n"
     ]
    }
   ],
   "source": [
    "for i in range(0,31,3):\n",
    "    print(i)"
   ]
  },
  {
   "cell_type": "code",
   "execution_count": 23,
   "id": "9293d3fd",
   "metadata": {},
   "outputs": [],
   "source": [
    "l=[1,1.5,'data,true',12.5,22]"
   ]
  },
  {
   "cell_type": "code",
   "execution_count": 24,
   "id": "29aecbb0",
   "metadata": {},
   "outputs": [
    {
     "name": "stdout",
     "output_type": "stream",
     "text": [
      "1.5\n",
      "12.5\n"
     ]
    }
   ],
   "source": [
    "for i in l:\n",
    "    if type(i)==float:\n",
    "        print(i)"
   ]
  },
  {
   "cell_type": "code",
   "execution_count": null,
   "id": "0d4feaac",
   "metadata": {},
   "outputs": [],
   "source": []
  }
 ],
 "metadata": {
  "kernelspec": {
   "display_name": "Python 3 (ipykernel)",
   "language": "python",
   "name": "python3"
  },
  "language_info": {
   "codemirror_mode": {
    "name": "ipython",
    "version": 3
   },
   "file_extension": ".py",
   "mimetype": "text/x-python",
   "name": "python",
   "nbconvert_exporter": "python",
   "pygments_lexer": "ipython3",
   "version": "3.11.5"
  }
 },
 "nbformat": 4,
 "nbformat_minor": 5
}
