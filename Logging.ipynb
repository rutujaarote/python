{
 "cells": [
  {
   "cell_type": "code",
   "execution_count": 1,
   "id": "76547c28",
   "metadata": {},
   "outputs": [],
   "source": [
    "import logging"
   ]
  },
  {
   "cell_type": "code",
   "execution_count": 3,
   "id": "4eb041f8",
   "metadata": {},
   "outputs": [],
   "source": [
    "logging.basicConfig(filename='logtest3.log',Level=logging.debug,format='%(asctime)s%(levelname)s%(message)s')"
   ]
  },
  {
   "cell_type": "code",
   "execution_count": 10,
   "id": "93469b6e",
   "metadata": {},
   "outputs": [],
   "source": [
    "def addi(a,b):\n",
    "    logging.info('This is start of my code i am trying to enter % and %',a,b)\n",
    "    try:\n",
    "        add=a+b\n",
    "        logging.info('Executed successfully')\n",
    "    except Exception as e:\n",
    "            logging.error('Error has happened')\n",
    "            logging.exception('exception occured'+str(e))"
   ]
  },
  {
   "cell_type": "code",
   "execution_count": 7,
   "id": "6ae63e4a",
   "metadata": {},
   "outputs": [],
   "source": [
    "divbyzero(10,5)"
   ]
  },
  {
   "cell_type": "code",
   "execution_count": 8,
   "id": "0485a618",
   "metadata": {},
   "outputs": [],
   "source": [
    "divbyzero(0,0)"
   ]
  },
  {
   "cell_type": "code",
   "execution_count": 9,
   "id": "4f3b3322",
   "metadata": {},
   "outputs": [],
   "source": [
    "divbyzero(4,2)"
   ]
  },
  {
   "cell_type": "code",
   "execution_count": 11,
   "id": "cf89956a",
   "metadata": {},
   "outputs": [],
   "source": [
    "addi(1,'d')"
   ]
  },
  {
   "cell_type": "code",
   "execution_count": 12,
   "id": "a0e5aaf6",
   "metadata": {},
   "outputs": [],
   "source": [
    "addi(2,2)"
   ]
  },
  {
   "cell_type": "code",
   "execution_count": 13,
   "id": "9eb85214",
   "metadata": {},
   "outputs": [],
   "source": [
    "logging.shutdown()"
   ]
  },
  {
   "cell_type": "code",
   "execution_count": null,
   "id": "5d82e285",
   "metadata": {},
   "outputs": [],
   "source": []
  }
 ],
 "metadata": {
  "kernelspec": {
   "display_name": "Python 3 (ipykernel)",
   "language": "python",
   "name": "python3"
  },
  "language_info": {
   "codemirror_mode": {
    "name": "ipython",
    "version": 3
   },
   "file_extension": ".py",
   "mimetype": "text/x-python",
   "name": "python",
   "nbconvert_exporter": "python",
   "pygments_lexer": "ipython3",
   "version": "3.11.5"
  }
 },
 "nbformat": 4,
 "nbformat_minor": 5
}
